{
 "cells": [
  {
   "cell_type": "code",
   "execution_count": null,
   "metadata": {
    "slideshow": {
     "slide_type": "notes"
    }
   },
   "outputs": [],
   "source": [
    "from IPython.core.interactiveshell import InteractiveShell\n",
    "InteractiveShell.ast_node_interactivity = \"all\"\n",
    "\n",
    "import numpy as np\n",
    "import pandas as pd"
   ]
  },
  {
   "cell_type": "markdown",
   "metadata": {
    "slideshow": {
     "slide_type": "slide"
    }
   },
   "source": [
    "\n",
    "# Introduction to Python *-* pandas\n",
    "\n",
    "---\n",
    "\n",
    "<br>\n",
    "Albert Ruiz"
   ]
  },
  {
   "cell_type": "markdown",
   "metadata": {
    "slideshow": {
     "slide_type": "slide"
    }
   },
   "source": [
    "## Agenda\n",
    "\n",
    "* Introduction to pd.Series\n",
    "* Introduction to pd.DataFrame\n",
    "* Essential functionality\n",
    "* Summarizing and descriptive statistics\n",
    "* Loading and storage\n",
    "* Data cleaning\n",
    "* Data preparation\n",
    "* Data wrangling\n",
    "* Data aggregation"
   ]
  },
  {
   "cell_type": "markdown",
   "metadata": {
    "slideshow": {
     "slide_type": "slide"
    }
   },
   "source": [
    "<h1 class=\"center_text\">Introduction to pd.Series</h1>"
   ]
  },
  {
   "cell_type": "markdown",
   "metadata": {
    "slideshow": {
     "slide_type": "slide"
    }
   },
   "source": [
    "## What is a pd.Series?\n",
    "\n",
    "A series is a one-dimensional array-like object containing a sequence of *values* and an associated array of *labels* used as index."
   ]
  },
  {
   "cell_type": "code",
   "execution_count": null,
   "metadata": {
    "slideshow": {
     "slide_type": "-"
    }
   },
   "outputs": [],
   "source": [
    "# Default index\n",
    "obj = pd.Series([10, 20, 30])\n",
    "obj\n",
    "\n",
    "# Custom labels\n",
    "obj = pd.Series([10, 20, 30], index=['a', 'b', 'c'])\n",
    "obj\n",
    "\n",
    "# Labels can be numbers and values can be strings too\n",
    "obj = pd.Series(['a', 'b', 'c'], index=[10, 20, 30])\n",
    "obj"
   ]
  },
  {
   "cell_type": "markdown",
   "metadata": {
    "slideshow": {
     "slide_type": "slide"
    }
   },
   "source": [
    "## Basic selection\n",
    "\n",
    "Compared with NumPy arrays, you can use labels when selecting values."
   ]
  },
  {
   "cell_type": "code",
   "execution_count": null,
   "metadata": {
    "slideshow": {
     "slide_type": "-"
    }
   },
   "outputs": [],
   "source": [
    "# Default indexes\n",
    "obj = pd.Series([10, 20, 30])\n",
    "\n",
    "# Single value\n",
    "f\"Accessing a single value: {obj[2]}\"\n",
    "\n",
    "# Set of values\n",
    "f\"Accessing a set of values:\"\n",
    "obj[1:3]\n",
    "\n",
    "# Custom labels\n",
    "obj = pd.Series([10, 20, 30], index=['a', 'b', 'c'])\n",
    "\n",
    "# Single value\n",
    "f\"Accessing a single value by label: {obj['c']}\"\n",
    "\n",
    "# Set of values\n",
    "f\"Accessing a set of values by labels:\"\n",
    "obj[['b', 'c']]\n"
   ]
  },
  {
   "cell_type": "markdown",
   "metadata": {
    "slideshow": {
     "slide_type": "slide"
    }
   },
   "source": [
    "## pd.Series attributes\n",
    "\n",
    "All series have the following attributes:\n",
    "\n",
    "* `dtype` - Return the dtype object of the underlying data.\n",
    "* `hasnans` - Return if I have any nans; enables various performance speedups.\n",
    "* `iat` - Access a single value for a row/column pair by integer position.\n",
    "* `index` - The index (labels) of the Series.\n",
    "* `is_monotonic` - Return True if values in the object are monotonic_increasing.\n",
    "* `is_monotonic_decreasing` - Return True if values in the object are monotonic_decreasing.\n",
    "* `is_unique` - Return True if values in the object are unique.\n",
    "* `loc` - Access a group of rows and columns by label(s) or a boolean array.\n",
    "* `ndim` - Number of dimensions of the underlying data.\n",
    "* `shape` - Return a tuple of the shape of the underlying data.\n",
    "* `size` - Return the number of elements in the underlying data.\n",
    "* `values` - Return Series as ndarray or ndarray-like depending on the dtype.\n",
    "\n",
    "You can find the full list of attributes in this [link](https://pandas.pydata.org/docs/reference/api/pandas.Series.html)."
   ]
  },
  {
   "cell_type": "markdown",
   "metadata": {
    "slideshow": {
     "slide_type": "slide"
    }
   },
   "source": [
    "## Using pd.Series attributes"
   ]
  },
  {
   "cell_type": "code",
   "execution_count": null,
   "metadata": {
    "slideshow": {
     "slide_type": "-"
    }
   },
   "outputs": [],
   "source": [
    "obj = pd.Series([10, 20, 30], index=['a', 'b', 'c'])\n",
    "\n",
    "# Value and index\n",
    "f\"Values: {obj.values}\"\n",
    "f\"Type: {type(obj.values)}\"\n",
    "f\"Indexes: {obj.index}\"\n",
    "\n",
    "# Accessing\n",
    "f\"Accessing by integer position: {obj.iat[2]}\"\n",
    "f\"Accessing by label: {obj.loc['c']}\"\n",
    "\n",
    "# Monotonic\n",
    "f\"Is monotonic: {obj.is_monotonic}\"\n",
    "\n",
    "# Unique\n",
    "f\"Is unique: {obj.is_unique}\"\n",
    "\n",
    "# Dimension, shape and size\n",
    "f\"Number of dimensions: {obj.ndim}\"\n",
    "f\"Shape: {obj.shape}\"\n",
    "f\"Size: {obj.size}\""
   ]
  },
  {
   "cell_type": "markdown",
   "metadata": {
    "slideshow": {
     "slide_type": "slide"
    }
   },
   "source": [
    "## pd.Series methods\n",
    "\n",
    "All series have the following methods:\n",
    "\n",
    "* `abs` - Return a Series with absolute numeric value of each element.\n",
    "* `add` - Add value to series, element-wise.\n",
    "* `mul` and `div` - Multiply/Divide by value or series, element wise.\n",
    "* `pow` - Return exponential power of series and value or series.\n",
    "* `all` - Return whether all elements are True.\n",
    "* `any` - Return whether any elements are True.\n",
    "* `append` - Concatenate series.\n",
    "* `argmax` and `argmin` - Return the int position of the largest/smallest value.\n",
    "* `max` and `min` - Return the maximum/minimum value.\n",
    "* `sum` - Return the sum of the values.\n",
    "* `mean` and `median` - Return the mean and the median of the values.\n",
    "\n",
    "You can find the full list of attributes in this [link](https://pandas.pydata.org/docs/reference/api/pandas.Series.html)."
   ]
  },
  {
   "cell_type": "markdown",
   "metadata": {
    "slideshow": {
     "slide_type": "slide"
    }
   },
   "source": [
    "## Using pd.Series methods"
   ]
  },
  {
   "cell_type": "code",
   "execution_count": null,
   "metadata": {
    "slideshow": {
     "slide_type": "-"
    }
   },
   "outputs": [],
   "source": [
    "obj = pd.Series([1, 5, 2], index=['a', 'b', 'c'])\n",
    "\n",
    "#  Multiply by value\n",
    "\"Multiply by value:\"\n",
    "obj.mul(2)\n",
    "\n",
    "# Multiply by series\n",
    "\"Multiply by series:\"\n",
    "obj.mul(obj)\n",
    "\n",
    "# Sum, mean and median\n",
    "f\"Sum: {obj.sum()}\"\n",
    "f\"Mean: {obj.mean()}\"\n",
    "f\"Median: {obj.median()}\"\n",
    "\n",
    "# Finding maximum value\n",
    "f\"Max: {obj.max()}\"\n",
    "f\"Max value is at: {obj.argmax()}\""
   ]
  },
  {
   "cell_type": "markdown",
   "metadata": {
    "slideshow": {
     "slide_type": "slide"
    }
   },
   "source": [
    "# Using NumPy functions\n",
    "\n",
    "NumPy functions and NumPy-like operations (filtering, scalar multiplication, applying math functions...) can be used with pd.Series. Index-value links are preserved."
   ]
  },
  {
   "cell_type": "code",
   "execution_count": null,
   "metadata": {
    "slideshow": {
     "slide_type": "-"
    }
   },
   "outputs": [],
   "source": [
    "obj = pd.Series([1, 5, 2], index=['a', 'b', 'c'])\n",
    "\n",
    "# NumPy-like operations examples\n",
    "\"Boolean filter:\"\n",
    "obj[obj >= 2]\n",
    "\n",
    "\"Element wise multiplication:\"\n",
    "obj * 2\n",
    "\n",
    "# Numpy functions\n",
    "\"Power:\"\n",
    "np.power(obj, 3)\n",
    "\n",
    "\"Flip:\"\n",
    "np.flip(obj)"
   ]
  },
  {
   "cell_type": "markdown",
   "metadata": {
    "slideshow": {
     "slide_type": "slide"
    }
   },
   "source": [
    "<h1 class=\"center_text\">Introduction to pd.DataFrame</h1>"
   ]
  },
  {
   "cell_type": "markdown",
   "metadata": {
    "slideshow": {
     "slide_type": "slide"
    }
   },
   "source": [
    "## What is a pd.DataFrame?\n",
    "\n",
    "A DataFrame represents a rectangular table of data.\n",
    "\n",
    "It contains an ordered collection of columns, each of which can be a different value type (numeric, string, boolean, etc.)."
   ]
  },
  {
   "cell_type": "code",
   "execution_count": null,
   "metadata": {
    "slideshow": {
     "slide_type": "-"
    }
   },
   "outputs": [],
   "source": [
    "data = {\n",
    "    \"name\": [\"Max\", \"Sarah\", \"John\"],\n",
    "    \"surname\": [\"Rockatansky\", \"Connor\", \"McClane\"],\n",
    "    \"sex\": [\"M\", \"F\", \"M\"],\n",
    "     \"age\": [35, 25, 40],\n",
    "     \"country\": [\"AU\", \"US\", \"US\"]\n",
    "}\n",
    "\n",
    "df = pd.DataFrame(data)\n",
    "df"
   ]
  },
  {
   "cell_type": "markdown",
   "metadata": {
    "slideshow": {
     "slide_type": "slide"
    }
   },
   "source": [
    "## Constructors"
   ]
  },
  {
   "cell_type": "code",
   "execution_count": null,
   "metadata": {
    "slideshow": {
     "slide_type": "-"
    }
   },
   "outputs": [],
   "source": [
    "\"From dict:\"\n",
    "df = pd.DataFrame(\n",
    "    {\"name\": [\"Max\", \"Sarah\", \"John\"],\n",
    "     \"surname\": [\"Rockatansky\", \"Connor\", \"McClane\"],\n",
    "     \"sex\": [\"M\", \"F\", \"M\"],\n",
    "     \"age\": [35, 25, 40],\n",
    "     \"country\": [\"AU\", \"US\", \"US\"]}\n",
    ")\n",
    "df\n",
    "\n",
    "\"From list of lists (or list of tuples):\"\n",
    "df = pd.DataFrame(\n",
    "    [[\"Max\", \"Rockatansky\", \"M\", 35],\n",
    "     [\"Sarah\", \"Connor\", \"F\", 25],\n",
    "     [\"John\", \"McClane\", \"M\", 40]]\n",
    ")\n",
    "df"
   ]
  },
  {
   "cell_type": "markdown",
   "metadata": {
    "slideshow": {
     "slide_type": "slide"
    }
   },
   "source": [
    "## Custom indexes\n",
    "\n",
    "By default, rows are numbered. You can also define a label for each row:"
   ]
  },
  {
   "cell_type": "code",
   "execution_count": null,
   "metadata": {
    "slideshow": {
     "slide_type": "-"
    }
   },
   "outputs": [],
   "source": [
    "df = pd.DataFrame(\n",
    "    {\"name\": [\"Max\", \"Sarah\", \"John\"],\n",
    "     \"surname\": [\"Rockatansky\", \"Connor\", \"McClane\"],\n",
    "     \"sex\": [\"M\", \"F\", \"M\"],\n",
    "     \"age\": [35, 25, 40],\n",
    "     \"country\": [\"AU\", \"US\", \"US\"]},\n",
    "    index=[\"a\", \"b\", \"c\"]\n",
    ")\n",
    "df"
   ]
  },
  {
   "cell_type": "markdown",
   "metadata": {
    "slideshow": {
     "slide_type": "slide"
    }
   },
   "source": [
    "<h1 class=\"center_text\">Essential functionality</h1>"
   ]
  },
  {
   "cell_type": "markdown",
   "metadata": {
    "slideshow": {
     "slide_type": "slide"
    }
   },
   "source": [
    "### *Note*\n",
    "\n",
    "This section only covers functions used with pd.DataFrame. However, most of them can also be used with pd.Series."
   ]
  },
  {
   "cell_type": "markdown",
   "metadata": {
    "slideshow": {
     "slide_type": "slide"
    }
   },
   "source": [
    "## Reindexing\n",
    "\n",
    "Reindexing means to create a new object with the data conformed to a new index."
   ]
  },
  {
   "cell_type": "code",
   "execution_count": null,
   "metadata": {
    "slideshow": {
     "slide_type": "-"
    }
   },
   "outputs": [],
   "source": [
    "\"Initial DataFrame:\"\n",
    "df_1 = pd.DataFrame(\n",
    "    {\"name\": [\"Max\", \"Sarah\", \"John\"],\n",
    "     \"surname\": [\"Rockatansky\", \"Connor\", \"McClane\"],\n",
    "     \"sex\": [\"M\", \"F\", \"M\"],\n",
    "     \"age\": [35, 25, 40],\n",
    "     \"country\": [\"AU\", \"US\", \"US\"]},\n",
    "    index=[\"a\", \"b\", \"c\"]\n",
    ")\n",
    "df_1\n",
    "\n",
    "\"Reindexing:\"\n",
    "df_2 = df_1.reindex(['a', 'c', 'b'])\n",
    "df_2\n",
    "\n",
    "\"Reindexing and adding a new index:\"\n",
    "df_3 = df_1.reindex(['a', 'c', 'd', 'b'])\n",
    "df_3"
   ]
  },
  {
   "cell_type": "markdown",
   "metadata": {
    "slideshow": {
     "slide_type": "slide"
    }
   },
   "source": [
    "## Resetting index"
   ]
  },
  {
   "cell_type": "code",
   "execution_count": null,
   "metadata": {
    "slideshow": {
     "slide_type": "-"
    }
   },
   "outputs": [],
   "source": [
    "\"Initial DataFrame:\"\n",
    "df_1 = pd.DataFrame(\n",
    "    {\"name\": [\"Max\", \"Sarah\", \"John\"],\n",
    "     \"surname\": [\"Rockatansky\", \"Connor\", \"McClane\"],\n",
    "     \"sex\": [\"M\", \"F\", \"M\"],\n",
    "     \"age\": [35, 25, 40]},\n",
    "    index=[\"a\", \"b\", \"c\"]\n",
    ")\n",
    "df_1\n",
    "\n",
    "\"Resetting without dropping:\"\n",
    "df_2 = df_1.reset_index(drop=False)\n",
    "df_2\n",
    "\n",
    "\"Resetting with dropping:\"\n",
    "df_3 = df_1.reset_index(drop=True)\n",
    "df_3"
   ]
  },
  {
   "cell_type": "markdown",
   "metadata": {
    "slideshow": {
     "slide_type": "slide"
    }
   },
   "source": [
    "## Dropping rows and columns"
   ]
  },
  {
   "cell_type": "code",
   "execution_count": null,
   "metadata": {
    "slideshow": {
     "slide_type": "-"
    }
   },
   "outputs": [],
   "source": [
    "\"Initial DataFrame:\"\n",
    "df_1 = pd.DataFrame(\n",
    "    {\"name\": [\"Max\", \"Sarah\", \"John\"],\n",
    "     \"surname\": [\"Rockatansky\", \"Connor\", \"McClane\"],\n",
    "     \"sex\": [\"M\", \"F\", \"M\"],\n",
    "     \"age\": [35, 25, 40]},\n",
    "    index=[\"a\", \"b\", \"c\"]\n",
    ")\n",
    "df_1\n",
    "\n",
    "\"Dropping rows:\"\n",
    "df_2 = df_1.drop([\"c\", \"b\"])\n",
    "df_2\n",
    "\n",
    "\"Dropping columns:\"\n",
    "df_3 = df_1.drop([\"sex\", \"surname\"], axis='columns')\n",
    "df_3"
   ]
  },
  {
   "cell_type": "markdown",
   "metadata": {
    "slideshow": {
     "slide_type": "slide"
    }
   },
   "source": [
    "## Indexing\n",
    "\n",
    "Indexing into a DataFrame is for retrieving one or more columns."
   ]
  },
  {
   "cell_type": "code",
   "execution_count": null,
   "metadata": {
    "slideshow": {
     "slide_type": "-"
    }
   },
   "outputs": [],
   "source": [
    "\"Initial DataFrame:\"\n",
    "df = pd.DataFrame(\n",
    "    np.arange(12).reshape(3,4),\n",
    "    columns=[\"one\", \"two\", \"three\", \"four\"],\n",
    "    index=[\"france\", \"italy\", \"slovakia\"]\n",
    ")\n",
    "df\n",
    "\n",
    "\"One column:\"\n",
    "df[\"three\"]\n",
    "\n",
    "\"Multiple columns:\"\n",
    "df[[\"three\", \"one\"]]"
   ]
  },
  {
   "cell_type": "markdown",
   "metadata": {
    "slideshow": {
     "slide_type": "slide"
    }
   },
   "source": [
    "## Filtering: conditional indexing"
   ]
  },
  {
   "cell_type": "code",
   "execution_count": null,
   "metadata": {
    "slideshow": {
     "slide_type": "-"
    }
   },
   "outputs": [],
   "source": [
    "\"Initial DataFrame:\"\n",
    "df = pd.DataFrame(\n",
    "    np.arange(12).reshape(3,4),\n",
    "    columns=[\"one\", \"two\", \"three\", \"four\"],\n",
    "    index=[\"france\", \"italy\", \"slovakia\"]\n",
    ")\n",
    "df\n",
    "\n",
    "\"One condition:\"\n",
    "df[df[\"two\"] >= 5]\n",
    "\n",
    "\"Multiple conditions (or):\"\n",
    "df[(df[\"two\"] >= 5) | (df[\"three\"] >= 8)]\n",
    "\n",
    "\"Multiple conditions (and):\"\n",
    "df[(df[\"two\"] >= 5) & (df[\"three\"] >= 8)]"
   ]
  },
  {
   "cell_type": "markdown",
   "metadata": {
    "slideshow": {
     "slide_type": "slide"
    }
   },
   "source": [
    "## Selection with loc\n",
    "\n",
    "`loc` is a special indexing operator to select a subset of rows and columns by label."
   ]
  },
  {
   "cell_type": "code",
   "execution_count": null,
   "metadata": {
    "slideshow": {
     "slide_type": "-"
    }
   },
   "outputs": [],
   "source": [
    "\"Initial DataFrame:\"\n",
    "df = pd.DataFrame(\n",
    "    np.arange(12).reshape(3, 4),\n",
    "    columns=[\"one\", \"two\", \"three\", \"four\"],\n",
    "    index=[\"france\", \"italy\", \"slovakia\"]\n",
    ")\n",
    "df\n",
    "\n",
    "\"Selecting by row:\"\n",
    "df.loc[\"italy\"]\n",
    "\n",
    "f\"Selecting by pair row-col: {df.loc['italy', 'three']}\"\n",
    "\n",
    "\"Selecting multiple rows and cols:\"\n",
    "df.loc[[\"france\", \"italy\"], [\"one\", \"four\"]]"
   ]
  },
  {
   "cell_type": "markdown",
   "metadata": {
    "slideshow": {
     "slide_type": "slide"
    }
   },
   "source": [
    "## Selecting with iloc\n",
    "\n",
    "`iloc` is a special indexing operator to select a subset of rows and columns by position."
   ]
  },
  {
   "cell_type": "code",
   "execution_count": null,
   "metadata": {},
   "outputs": [],
   "source": [
    "\"Initial DataFrame:\"\n",
    "df = pd.DataFrame(\n",
    "    np.arange(12).reshape(3, 4),\n",
    "    columns=[\"one\", \"two\", \"three\", \"four\"],\n",
    "    index=[\"france\", \"italy\", \"slovakia\"]\n",
    ")\n",
    "df\n",
    "\n",
    "\"Selecting by row:\"\n",
    "df.iloc[1]\n",
    "\n",
    "f\"Selecting by pair row-col: {df.iloc[1, 2]}\"\n",
    "\n",
    "\"Selecting multiple rows and cols:\"\n",
    "df.iloc[[0, 1], [0, 3]]"
   ]
  },
  {
   "cell_type": "markdown",
   "metadata": {
    "slideshow": {
     "slide_type": "slide"
    }
   },
   "source": [
    "## Selecting with loc */* iloc with slicing\n",
    "\n",
    "Both `loc` and `iloc` work with slices"
   ]
  },
  {
   "cell_type": "code",
   "execution_count": null,
   "metadata": {
    "slideshow": {
     "slide_type": "-"
    }
   },
   "outputs": [],
   "source": [
    "\"Initial DataFrame:\"\n",
    "df = pd.DataFrame(\n",
    "    np.arange(12).reshape(3, 4),\n",
    "    columns=[\"one\", \"two\", \"three\", \"four\"],\n",
    "    index=[\"france\", \"italy\", \"slovakia\"]\n",
    ")\n",
    "df\n",
    "\n",
    "\"loc with slicing:\"\n",
    "df.loc[:\"italy\", \"two\":\"four\"]\n",
    "\n",
    "\"iloc with slicing:\"\n",
    "df.iloc[:2, 1:4]"
   ]
  },
  {
   "cell_type": "markdown",
   "metadata": {
    "slideshow": {
     "slide_type": "slide"
    }
   },
   "source": [
    "## Select single scalar with at\n",
    "\n",
    "`at` is a special indexing operator to select a single scalar by row and column label."
   ]
  },
  {
   "cell_type": "code",
   "execution_count": null,
   "metadata": {
    "slideshow": {
     "slide_type": "-"
    }
   },
   "outputs": [],
   "source": [
    "\"Initial DataFrame:\"\n",
    "df = pd.DataFrame(\n",
    "    np.arange(12).reshape(3, 4),\n",
    "    columns=[\"one\", \"two\", \"three\", \"four\"],\n",
    "    index=[\"france\", \"italy\", \"slovakia\"]\n",
    ")\n",
    "df\n",
    "\n",
    "f\"Selecting single scalar: {df.at['slovakia', 'two']}\""
   ]
  },
  {
   "cell_type": "markdown",
   "metadata": {
    "slideshow": {
     "slide_type": "slide"
    }
   },
   "source": [
    "## Select single scalar with at\n",
    "\n",
    "`at` is a special indexing operator to select a single scalar by row and column position."
   ]
  },
  {
   "cell_type": "code",
   "execution_count": null,
   "metadata": {
    "slideshow": {
     "slide_type": "-"
    }
   },
   "outputs": [],
   "source": [
    "\"Initial DataFrame:\"\n",
    "df = pd.DataFrame(\n",
    "    np.arange(12).reshape(3, 4),\n",
    "    columns=[\"one\", \"two\", \"three\", \"four\"],\n",
    "    index=[\"france\", \"italy\", \"slovakia\"]\n",
    ")\n",
    "df\n",
    "\n",
    "f\"Selecting single scalar: {df.iat[2, 1]}\""
   ]
  },
  {
   "cell_type": "markdown",
   "metadata": {
    "slideshow": {
     "slide_type": "slide"
    }
   },
   "source": [
    "## Arithmetic operators and methods with fill values (1/4)\n",
    "\n",
    "pandas includes some arithmetic operations:"
   ]
  },
  {
   "cell_type": "code",
   "execution_count": null,
   "metadata": {},
   "outputs": [],
   "source": [
    "\"Initial DataFrames:\"\n",
    "df_1 = pd.DataFrame(\n",
    "    np.arange(9).reshape(3, 3),\n",
    "    columns=[\"a\", \"b\", \"c\"],\n",
    ")\n",
    "df_1\n",
    "\n",
    "df_2 = pd.DataFrame(\n",
    "    np.arange(16).reshape(4, 4),\n",
    "    columns=[\"a\", \"b\", \"c\", \"d\"],\n",
    ")\n",
    "df_2\n",
    "\n",
    "\"Adding with operator:\"\n",
    "df_1 + df_2\n",
    "\n",
    "\"Adding with add() method:\"\n",
    "df_1.add(df_2)"
   ]
  },
  {
   "cell_type": "markdown",
   "metadata": {
    "slideshow": {
     "slide_type": "slide"
    }
   },
   "source": [
    "## Arithmetic operators and methods with fill values (2/4)\n",
    "\n",
    "List of operations:\n",
    "\n",
    "* `+` operator and `add` method for addition\n",
    "* `-` operator and `sub` method for subtraction\n",
    "* `*` operator and `mul` method for multiplication\n",
    "* `/` operator and `div` method for division\n",
    "* `//` operator and `floordiv` method for floor division\n",
    "* `**` operator and `pow` method for exponentiation"
   ]
  },
  {
   "cell_type": "markdown",
   "metadata": {
    "slideshow": {
     "slide_type": "slide"
    }
   },
   "source": [
    "## Arithmetic operators and methods with fill values (3/4)\n",
    "\n",
    "Some examples:"
   ]
  },
  {
   "cell_type": "code",
   "execution_count": null,
   "metadata": {
    "slideshow": {
     "slide_type": "-"
    }
   },
   "outputs": [],
   "source": [
    "\"Multiplying with operator:\"\n",
    "df_1 * df_2\n",
    "\n",
    "\"Multiplying with mul() method:\"\n",
    "df_1.mul(df_2)"
   ]
  },
  {
   "cell_type": "markdown",
   "metadata": {
    "slideshow": {
     "slide_type": "slide"
    }
   },
   "source": [
    "## Arithmetic operators and methods with fill values (4/4)\n",
    "\n",
    "Arithmetic methods have the `fill_value` parameter:"
   ]
  },
  {
   "cell_type": "code",
   "execution_count": null,
   "metadata": {
    "slideshow": {
     "slide_type": "-"
    }
   },
   "outputs": [],
   "source": [
    "\"Multiplying with mul() method:\"\n",
    "df_1.mul(df_2, fill_value=0)\n",
    "\n",
    "\"Exponentiation with pow() method:\"\n",
    "df_1.pow(df_2, fill_value=0)"
   ]
  },
  {
   "cell_type": "markdown",
   "metadata": {
    "slideshow": {
     "slide_type": "slide"
    }
   },
   "source": [
    "## Function application\n",
    "\n",
    "It is possible to apply a function on one-dimensional arrays to each column or row:"
   ]
  },
  {
   "cell_type": "code",
   "execution_count": null,
   "metadata": {
    "slideshow": {
     "slide_type": "-"
    }
   },
   "outputs": [],
   "source": [
    "# Dummy function\n",
    "def f(x):\n",
    "    return x.max() - x.min()\n",
    "\n",
    "\"Initial DataFrame:\"\n",
    "df = pd.DataFrame(\n",
    "    np.arange(12).reshape(3, 4),\n",
    "    columns=[\"one\", \"two\", \"three\", \"four\"],\n",
    "    index=[\"france\", \"italy\", \"slovakia\"]\n",
    ")\n",
    "df\n",
    "\n",
    "\"Apply to each column:\"\n",
    "df.apply(f)\n",
    "\n",
    "\"Apply to each row:\"\n",
    "df.apply(f, axis='columns')"
   ]
  },
  {
   "cell_type": "markdown",
   "metadata": {
    "slideshow": {
     "slide_type": "slide"
    }
   },
   "source": [
    "## Lambda functions\n",
    "\n",
    "Functions to apply can be defined on the fly as lambda functions:"
   ]
  },
  {
   "cell_type": "code",
   "execution_count": null,
   "metadata": {
    "slideshow": {
     "slide_type": "-"
    }
   },
   "outputs": [],
   "source": [
    "\"Initial DataFrame:\"\n",
    "df = pd.DataFrame(\n",
    "    np.arange(12).reshape(3, 4),\n",
    "    columns=[\"one\", \"two\", \"three\", \"four\"],\n",
    "    index=[\"france\", \"italy\", \"slovakia\"]\n",
    ")\n",
    "df\n",
    "\n",
    "\"Apply to each column:\"\n",
    "df.apply(lambda x: x.max() - x.min())\n",
    "\n",
    "\"Apply to each row:\"\n",
    "df.apply(lambda x: x.max() - x.min(),\n",
    "         axis='columns')"
   ]
  },
  {
   "cell_type": "markdown",
   "metadata": {
    "slideshow": {
     "slide_type": "slide"
    }
   },
   "source": [
    "# Sorting by index"
   ]
  },
  {
   "cell_type": "code",
   "execution_count": null,
   "metadata": {
    "slideshow": {
     "slide_type": "-"
    }
   },
   "outputs": [],
   "source": [
    "\"Initial DataFrame:\"\n",
    "df = pd.DataFrame(\n",
    "    np.arange(12).reshape(3, 4),\n",
    "    columns=[\"one\", \"two\", \"three\", \"four\"],\n",
    "    index=[\"france\", \"italy\", \"slovakia\"]\n",
    ")\n",
    "df\n",
    "\n",
    "\"After sorting by row index:\"\n",
    "df = df.sort_index(ascending=False)\n",
    "df\n",
    "\n",
    "\"After sorting by column index:\"\n",
    "df = df.sort_index(axis='columns')\n",
    "df"
   ]
  },
  {
   "cell_type": "markdown",
   "metadata": {
    "slideshow": {
     "slide_type": "slide"
    }
   },
   "source": [
    "## Sorting by value"
   ]
  },
  {
   "cell_type": "code",
   "execution_count": null,
   "metadata": {
    "slideshow": {
     "slide_type": "-"
    }
   },
   "outputs": [],
   "source": [
    "\"Initial DataFrame:\"\n",
    "df = pd.DataFrame(\n",
    "    {\"name\": [\"Max\", \"Sarah\", \"John\"],\n",
    "     \"surname\": [\"Rockatansky\", \"Connor\", \"McClane\"],\n",
    "     \"sex\": [\"M\", \"F\", \"M\"],\n",
    "     \"age\": [35, 25, 40]}\n",
    ")\n",
    "df\n",
    "\n",
    "\"Sorting by one column:\"\n",
    "df = df.sort_values(by=\"sex\")\n",
    "df\n",
    "\n",
    "\"Sorting by multiple columns:\"\n",
    "df = df.sort_values(by=[\"sex\", \"name\"])\n",
    "df"
   ]
  },
  {
   "cell_type": "markdown",
   "metadata": {
    "slideshow": {
     "slide_type": "slide"
    }
   },
   "source": [
    "## Ranking\n",
    "\n",
    "Ranking assigns ranks from one through the number of valid data points in an array."
   ]
  },
  {
   "cell_type": "code",
   "execution_count": null,
   "metadata": {
    "slideshow": {
     "slide_type": "-"
    }
   },
   "outputs": [],
   "source": [
    "\"Initial DataFrame:\"\n",
    "df = pd.DataFrame(\n",
    "    {\"name\": [\"Max\", \"Sarah\", \"John\"],\n",
    "     \"surname\": [\"Rockatansky\", \"Connor\", \"McClane\"],\n",
    "     \"sex\": [\"M\", \"F\", \"M\"],\n",
    "     \"age\": [35, 25, 40]}\n",
    ")\n",
    "df\n",
    "\n",
    "\"Ranking:\"\n",
    "df.rank()"
   ]
  },
  {
   "cell_type": "markdown",
   "metadata": {
    "slideshow": {
     "slide_type": "slide"
    }
   },
   "source": [
    "<h1 class=\"center_text\">Summarizing and descriptive statistics</h1>"
   ]
  },
  {
   "cell_type": "markdown",
   "metadata": {
    "slideshow": {
     "slide_type": "slide"
    }
   },
   "source": [
    "## Reduction methods (1/2)\n",
    "\n",
    "pandas objects are equipped with a set of common mathematical and statistical methods for reduction (or summary statistics).\n",
    "\n",
    "* `count` - Number of non-NA values.\n",
    "* `describe` - Compute a set of statistics of each column.\n",
    "* `min`, `max` - Compute minimum and maximum values\n",
    "* `argmin`, `argmax` - Compute index locations of minimum and maximum values.\n",
    "* `sum` - Sum of values.\n",
    "* `mean` - Mean of values.\n",
    "* `median` - Arithmetic median.\n",
    "* `prod` - Product of values.\n",
    "* `var` - Sample variance.\n",
    "* `std`- Sample standard deviation.\n",
    "* `quantile` - Compute sample quantile ranging from 0 to 1."
   ]
  },
  {
   "cell_type": "markdown",
   "metadata": {
    "slideshow": {
     "slide_type": "slide"
    }
   },
   "source": [
    "## Reduction methods (2/2)\n",
    "\n",
    "Example:"
   ]
  },
  {
   "cell_type": "code",
   "execution_count": null,
   "metadata": {
    "slideshow": {
     "slide_type": "-"
    }
   },
   "outputs": [],
   "source": [
    "\"Initial DataFrame:\"\n",
    "df = pd.DataFrame(\n",
    "    np.arange(12).reshape(3, 4),\n",
    "    columns=[\"one\", \"two\", \"three\", \"four\"],\n",
    "    index=[\"france\", \"italy\", \"slovakia\"]\n",
    ")\n",
    "df\n",
    "\n",
    "\"Describe:\"\n",
    "df.describe()\n",
    "\n",
    "\"Sum:\"\n",
    "df.sum()"
   ]
  },
  {
   "cell_type": "markdown",
   "metadata": {
    "slideshow": {
     "slide_type": "slide"
    }
   },
   "source": [
    "## Unique values\n",
    "\n",
    "`unique()`returns unique values in a column."
   ]
  },
  {
   "cell_type": "code",
   "execution_count": null,
   "metadata": {
    "slideshow": {
     "slide_type": "-"
    }
   },
   "outputs": [],
   "source": [
    "\"Initial DataFrame:\"\n",
    "df = pd.DataFrame(\n",
    "    {\"name\": [\"Max\", \"Sarah\", \"John\"],\n",
    "     \"surname\": [\"Rockatansky\", \"Connor\", \"McClane\"],\n",
    "     \"sex\": [\"M\", \"F\", \"M\"],\n",
    "     \"age\": [35, 25, 40],\n",
    "     \"country\": [\"AU\", \"US\", \"US\"]}\n",
    ")\n",
    "df\n",
    "\n",
    "\"Unique name values\"\n",
    "df[\"name\"].unique()\n",
    "\n",
    "\"Unique countries:\"\n",
    "df[\"country\"].unique()\n",
    "\n",
    "df.value_counts()"
   ]
  },
  {
   "cell_type": "markdown",
   "metadata": {
    "slideshow": {
     "slide_type": "slide"
    }
   },
   "source": [
    "## Value counts\n",
    "\n",
    "`value_counts` computes unique rows in the DataFrame."
   ]
  },
  {
   "cell_type": "code",
   "execution_count": null,
   "metadata": {
    "slideshow": {
     "slide_type": "-"
    }
   },
   "outputs": [],
   "source": [
    "\"Initial DataFrame\"\n",
    "df = pd.DataFrame(\n",
    "    [[2008, \"Hamilton\", \"McLaren\"],\n",
    "     [2009, \"Button\", \"Brawn\"],\n",
    "     [2010, \"Vettel\", \"Red Bull\"],\n",
    "     [2011, \"Vettel\", \"Red Bull\"],\n",
    "     [2012, \"Vettel\", \"Red Bull\"],\n",
    "     [2013, \"Vettel\", \"Red Bull\"],\n",
    "     [2014, \"Hamilton\", \"Mercedes\"]],\n",
    "    columns=[\"year\", \"driver\", \"constructor\"] \n",
    ")\n",
    "df = df.set_index(\"year\")\n",
    "df\n",
    "\n",
    "\n",
    "\"Unique rows\"\n",
    "df.value_counts()"
   ]
  },
  {
   "cell_type": "markdown",
   "metadata": {
    "slideshow": {
     "slide_type": "slide"
    }
   },
   "source": [
    "<h1 class=\"center_text\">Loading and storage</h1>"
   ]
  },
  {
   "cell_type": "markdown",
   "metadata": {
    "slideshow": {
     "slide_type": "slide"
    }
   },
   "source": [
    "## Parsing functions\n",
    "\n",
    "pandas includes several functions for reading tabular data (from a file or URL) as a DataFrame:\n",
    "\n",
    "* `read_csv`\n",
    "* `read_table`\n",
    "* `read_excel`\n",
    "* `read_parquet`\n",
    "* `read_json`\n",
    "* `read_sql`"
   ]
  },
  {
   "cell_type": "markdown",
   "metadata": {
    "slideshow": {
     "slide_type": "slide"
    }
   },
   "source": [
    "## Read CSV file\n",
    "\n",
    "Read a CSV file into DataFrame.\n",
    "\n",
    "This method has many different parameters. You will find a full description in this [link](https://pandas.pydata.org/pandas-docs/stable/reference/api/pandas.read_csv.html?highlight=read_csv)."
   ]
  },
  {
   "cell_type": "code",
   "execution_count": null,
   "metadata": {
    "slideshow": {
     "slide_type": "-"
    }
   },
   "outputs": [],
   "source": [
    "\"Read CSV, using default index\"\n",
    "df = pd.read_csv(\"samples/ex1.csv\")\n",
    "df\n",
    "\n",
    "\"Specifying header and index\"\n",
    "df = pd.read_csv(\"samples/ex1.csv\",\n",
    "                 header=0,\n",
    "                 index_col=\"country\")\n",
    "df\n",
    "\n",
    "\"Remove rows\"\n",
    "df = pd.read_csv(\"samples/ex1.csv\",\n",
    "                 skiprows=[0,2])\n",
    "df"
   ]
  },
  {
   "cell_type": "markdown",
   "metadata": {
    "slideshow": {
     "slide_type": "slide"
    }
   },
   "source": [
    "## Writing data\n",
    "\n",
    "pandas also includes several functions to export tabular data to a file:\n",
    "\n",
    "* `to_csv`\n",
    "* `to_excel`\n",
    "* `to_parquet`\n",
    "* `to_json`\n",
    "* `to_sql`\n"
   ]
  },
  {
   "cell_type": "markdown",
   "metadata": {
    "slideshow": {
     "slide_type": "slide"
    }
   },
   "source": [
    "<h1 class=\"center_text\">Data cleaning</h1>"
   ]
  },
  {
   "cell_type": "markdown",
   "metadata": {
    "slideshow": {
     "slide_type": "slide"
    }
   },
   "source": [
    "## NA handling methods\n",
    "\n",
    "pandas objects are includes some methods related to missing data handling\n",
    "\n",
    "* `dropna` - Filter axis labels based on whether values have missing data.\n",
    "* `fillna` - Fill in missing data with some value or using an interpolation method (such as `ffill` or `bfill`).\n",
    "* `isnull` - Return boolean values indicating which values are missing/NA.\n",
    "* `notnull` - Return boolean values indicating which values are not missing/NA."
   ]
  },
  {
   "cell_type": "markdown",
   "metadata": {
    "slideshow": {
     "slide_type": "slide"
    }
   },
   "source": [
    "## Filtering out missing data by row"
   ]
  },
  {
   "cell_type": "code",
   "execution_count": null,
   "metadata": {
    "slideshow": {
     "slide_type": "-"
    }
   },
   "outputs": [],
   "source": [
    "\"Initial DataFrame:\"\n",
    "df = pd.DataFrame(\n",
    "    [\n",
    "        [1.0, 2.0, 3.0, 4.0],\n",
    "        [5.0, np.nan, 6.0, 7.0],\n",
    "        [np.nan, np.nan, np.nan, np.nan],\n",
    "        [13.0, 14.0, 15.0, 16.0]\n",
    "    ],\n",
    "    columns=[\"A\", \"B\", \"C\", \"D\"]\n",
    ")\n",
    "df\n",
    "\n",
    "\n",
    "\"Drop rows with a missing value:\"\n",
    "df.dropna()\n",
    "\n",
    "\"Drop rows where all values are NA:\"\n",
    "df.dropna(how='all')"
   ]
  },
  {
   "cell_type": "markdown",
   "metadata": {
    "slideshow": {
     "slide_type": "slide"
    }
   },
   "source": [
    "## Filtering out missing data by column"
   ]
  },
  {
   "cell_type": "code",
   "execution_count": null,
   "metadata": {
    "slideshow": {
     "slide_type": "-"
    }
   },
   "outputs": [],
   "source": [
    "\"Initial DataFrame:\"\n",
    "df = pd.DataFrame(\n",
    "    [\n",
    "        [1.0, np.nan, 3.0, 4.0],\n",
    "        [5.0, np.nan, 7.0, 8.0],\n",
    "        [9.0, np.nan, np.nan, 12.0],\n",
    "        [13.0, np.nan, 15.0, 16.0]\n",
    "    ],\n",
    "    columns=[\"A\", \"B\", \"C\", \"D\"]\n",
    ")\n",
    "df\n",
    "\n",
    "\n",
    "\"Drop rows with a missing value:\"\n",
    "df.dropna(axis=1)\n",
    "\n",
    "\"Drop rows where all values are NA:\"\n",
    "df.dropna(axis=1, how='all')"
   ]
  },
  {
   "cell_type": "markdown",
   "metadata": {
    "slideshow": {
     "slide_type": "slide"
    }
   },
   "source": [
    "## Filling in missing data with fixed values"
   ]
  },
  {
   "cell_type": "code",
   "execution_count": null,
   "metadata": {
    "slideshow": {
     "slide_type": "-"
    }
   },
   "outputs": [],
   "source": [
    "\"Initial DataFrame:\"\n",
    "df = pd.DataFrame(\n",
    "    [\n",
    "        [1.0, np.nan, 3.0, 4.0],\n",
    "        [5.0, np.nan, 7.0, 8.0],\n",
    "        [9.0, np.nan, np.nan, 12.0],\n",
    "        [13.0, np.nan, 15.0, 16.0]\n",
    "    ],\n",
    "    columns=[\"A\", \"B\", \"C\", \"D\"]\n",
    ")\n",
    "df\n",
    "\n",
    "\"Replace all NA with 0\"\n",
    "df.fillna(0)\n",
    "\n",
    "\"Different fill values for each column:\"\n",
    "df.fillna({\"B\": -1.0, \"C\": -2.0})"
   ]
  },
  {
   "cell_type": "markdown",
   "metadata": {
    "slideshow": {
     "slide_type": "slide"
    }
   },
   "source": [
    "## Filling in missing data with ffill and bfill"
   ]
  },
  {
   "cell_type": "code",
   "execution_count": null,
   "metadata": {
    "slideshow": {
     "slide_type": "-"
    }
   },
   "outputs": [],
   "source": [
    "\"Initial DataFrame:\"\n",
    "df = pd.DataFrame(\n",
    "    [\n",
    "        [1.0, np.nan, 3.0, np.nan],\n",
    "        [5.0, 6.0, np.nan, 8.0],\n",
    "        [9.0, np.nan, 11.0, 12.0],\n",
    "        [13.0, np.nan, np.nan, np.nan]\n",
    "    ],\n",
    "    columns=[\"A\", \"B\", \"C\", \"D\"]\n",
    ")\n",
    "df\n",
    "\n",
    "\"ffill - propagate last valid observation\"\n",
    "df.fillna(method='ffill')\n",
    "\n",
    "\"bfill - use next valid observation\"\n",
    "df.fillna(method='bfill')"
   ]
  },
  {
   "cell_type": "markdown",
   "metadata": {
    "slideshow": {
     "slide_type": "slide"
    }
   },
   "source": [
    "<h1 class=\"center_text\">Data preparation</h1>"
   ]
  },
  {
   "cell_type": "markdown",
   "metadata": {
    "slideshow": {
     "slide_type": "slide"
    }
   },
   "source": [
    "## Removing duplicates"
   ]
  },
  {
   "cell_type": "code",
   "execution_count": null,
   "metadata": {
    "slideshow": {
     "slide_type": "-"
    }
   },
   "outputs": [],
   "source": [
    "\"Initial DataFrame:\"\n",
    "df = pd.DataFrame(\n",
    "    [\n",
    "        [1, \"A\"],\n",
    "        [2, \"A\"],\n",
    "        [1, \"B\"],\n",
    "        [1, \"A\"],\n",
    "        [2, \"B\"],\n",
    "        [2, \"A\"]\n",
    "    ]\n",
    ")\n",
    "df\n",
    "\n",
    "\"Find duplicated:\"\n",
    "df.duplicated()\n",
    "\n",
    "\"Remove duplicated:\"\n",
    "df.drop_duplicates()"
   ]
  },
  {
   "cell_type": "markdown",
   "metadata": {
    "slideshow": {
     "slide_type": "slide"
    }
   },
   "source": [
    "## Renaming row index"
   ]
  },
  {
   "cell_type": "code",
   "execution_count": null,
   "metadata": {},
   "outputs": [],
   "source": [
    "\"Initial DataFrame:\"\n",
    "df = pd.DataFrame(\n",
    "    [\n",
    "        [1.0, 2.0, 3.0],\n",
    "        [4.0, 5.0, 6.0],\n",
    "        [7.0, 8.0, 9.0],\n",
    "    ],\n",
    "    columns=[\"A\", \"B\", \"C\"]\n",
    ")\n",
    "df\n",
    "\n",
    "\"Renaming one index:\"\n",
    "df.rename(index={0: \"zero\"})\n",
    "\n",
    "\"Renaming all index:\"\n",
    "df.index = [\"zero\", \"one\", \"two\"]\n",
    "df"
   ]
  },
  {
   "cell_type": "markdown",
   "metadata": {
    "slideshow": {
     "slide_type": "slide"
    }
   },
   "source": [
    "## Renaming columns"
   ]
  },
  {
   "cell_type": "code",
   "execution_count": null,
   "metadata": {
    "slideshow": {
     "slide_type": "-"
    }
   },
   "outputs": [],
   "source": [
    "\"Initial DataFrame:\"\n",
    "df = pd.DataFrame(\n",
    "    [\n",
    "        [1.0, 2.0, 3.0],\n",
    "        [4.0, 5.0, 6.0],\n",
    "        [7.0, 8.0, 9.0],\n",
    "    ],\n",
    "    columns=[\"A\", \"B\", \"C\"]\n",
    ")\n",
    "df\n",
    "\n",
    "\"Renaming single column:\"\n",
    "df.rename(columns={\"A\": \"a\"})\n",
    "\n",
    "\"Renaming all columns\"\n",
    "df.columns = [\"c1\", \"c2\", \"c3\"]\n",
    "df"
   ]
  },
  {
   "cell_type": "markdown",
   "metadata": {
    "slideshow": {
     "slide_type": "slide"
    }
   },
   "source": [
    "## Replacing values"
   ]
  },
  {
   "cell_type": "code",
   "execution_count": null,
   "metadata": {
    "slideshow": {
     "slide_type": "-"
    }
   },
   "outputs": [],
   "source": [
    "\"Initial DataFrame:\"\n",
    "df = pd.DataFrame(\n",
    "    [\n",
    "        [1.0, 2.0, 3.0],\n",
    "        [4.0, 5.0, 6.0],\n",
    "        [7.0, 8.0, 9.0],\n",
    "    ],\n",
    "    columns=[\"A\", \"B\", \"C\"]\n",
    ")\n",
    "df\n",
    "\n",
    "\"Replace single value with a value\"\n",
    "df.replace(5.0, 0)\n",
    "\n",
    "\"Replace list of values with a value\"\n",
    "df.replace([5.0, 9.0], 0)\n",
    "\n",
    "\"Replace list of values with another list\"\n",
    "df.replace([5.0, 9.0], [9.0, 5.0])"
   ]
  },
  {
   "cell_type": "markdown",
   "metadata": {
    "slideshow": {
     "slide_type": "slide"
    }
   },
   "source": [
    "## Transforming using a map\n",
    "\n",
    "You may want to perform some transformation based on the values of the DataFrame:"
   ]
  },
  {
   "cell_type": "code",
   "execution_count": null,
   "metadata": {
    "slideshow": {
     "slide_type": "-"
    }
   },
   "outputs": [],
   "source": [
    "\"Initial DataFrame:\"\n",
    "df = pd.DataFrame(\n",
    "    [\n",
    "        [\"John\", \"M\"],\n",
    "        [\"Kelly\", \"F\"],\n",
    "        [\"Maria\", \"F\"],\n",
    "        [\"Max\", \"M\"]\n",
    "    ],\n",
    "    columns=[\"name\", \"sex\"]\n",
    ")\n",
    "df\n",
    "\n",
    "\"Map:\"\n",
    "to_int_map = {\n",
    "    \"M\": 0,\n",
    "    \"F\": 1\n",
    "}\n",
    "to_int_map\n",
    "\n",
    "\"After applying map:\"\n",
    "df[\"sex\"] = df[\"sex\"].map(to_int_map)\n",
    "df"
   ]
  },
  {
   "cell_type": "markdown",
   "metadata": {
    "slideshow": {
     "slide_type": "slide"
    }
   },
   "source": [
    "<h1 class=\"center_text\">Data wrangling</h1>"
   ]
  },
  {
   "cell_type": "markdown",
   "metadata": {
    "slideshow": {
     "slide_type": "slide"
    }
   },
   "source": [
    "## Merging datasets\n",
    "\n",
    "`merge` connects rows in DataFrames based on one or more keys. This is similar to SQL `join` operation."
   ]
  },
  {
   "cell_type": "code",
   "execution_count": null,
   "metadata": {
    "slideshow": {
     "slide_type": "-"
    }
   },
   "outputs": [],
   "source": [
    "\"Initial DataFrames:\"\n",
    "df_1 = pd.DataFrame(\n",
    "    {\n",
    "        \"val_1\": [1, 2, 3],\n",
    "        \"val_2\": [4, 5, 6],\n",
    "        \"key\": [\"a\", \"a\", \"b\"]\n",
    "    }\n",
    ")\n",
    "\n",
    "df_2 = pd.DataFrame(\n",
    "    {\n",
    "        \"val_3\": [10, 20, 30],\n",
    "        \"val_4\": [40, 50, 60],\n",
    "        \"key\": [\"c\", \"a\", \"b\"]\n",
    "    }\n",
    ")\n",
    "\n",
    "df_1\n",
    "df_2\n",
    "\n",
    "\"After joining:\"\n",
    "pd.merge(df_1, df_2, on=\"key\")"
   ]
  },
  {
   "cell_type": "markdown",
   "metadata": {
    "slideshow": {
     "slide_type": "slide"
    }
   },
   "source": [
    "## Merging with different column names\n",
    "\n",
    "If reference columns have different names, you can specify them separately:"
   ]
  },
  {
   "cell_type": "code",
   "execution_count": null,
   "metadata": {
    "slideshow": {
     "slide_type": "-"
    }
   },
   "outputs": [],
   "source": [
    "\"Initial DataFrames:\"\n",
    "df_1 = pd.DataFrame(\n",
    "    {\n",
    "        \"val_1\": [1, 2, 3],\n",
    "        \"val_2\": [4, 5, 6],\n",
    "        \"lkey\": [\"a\", \"a\", \"b\"]\n",
    "    }\n",
    ")\n",
    "\n",
    "df_2 = pd.DataFrame(\n",
    "    {\n",
    "        \"val_3\": [10, 20, 30],\n",
    "        \"val_4\": [40, 50, 60],\n",
    "        \"rkey\": [\"c\", \"a\", \"b\"]\n",
    "    }\n",
    ")\n",
    "\n",
    "df_1\n",
    "df_2\n",
    "\n",
    "\"After merging:\"\n",
    "pd.merge(df_1, df_2, left_on=\"lkey\", right_on=\"rkey\")"
   ]
  },
  {
   "cell_type": "markdown",
   "metadata": {
    "slideshow": {
     "slide_type": "slide"
    }
   },
   "source": [
    "## Merging behaviors\n",
    "\n",
    "`merge` supports different join types:\n",
    "\n",
    "* `inner` - Use only the key combinations observed in both tables (default option).\n",
    "* `left` - Use all the key combinations found in the left table.\n",
    "* `right` - Use all key combinations found in the right table.\n",
    "* `outer` - Use all key combinations observed in both tables together."
   ]
  },
  {
   "cell_type": "markdown",
   "metadata": {
    "slideshow": {
     "slide_type": "slide"
    }
   },
   "source": [
    "## Left / Right / Outer join"
   ]
  },
  {
   "cell_type": "code",
   "execution_count": null,
   "metadata": {
    "slideshow": {
     "slide_type": "-"
    }
   },
   "outputs": [],
   "source": [
    "df_1 = pd.DataFrame(\n",
    "    {\n",
    "        \"val_1\": [1, 2, 3, 4],\n",
    "        \"val_2\": [5, 6, 7, 8],\n",
    "        \"key\": [\"a\", \"a\", \"b\", \"c\"]\n",
    "    }\n",
    ")\n",
    "\n",
    "df_2 = pd.DataFrame(\n",
    "    {\n",
    "        \"val_3\": [10, 20, 30],\n",
    "        \"val_4\": [40, 50, 60],\n",
    "        \"key\": [\"c\", \"a\", \"d\"]\n",
    "    }\n",
    ")\n",
    "\n",
    "\"Left merge:\"\n",
    "pd.merge(df_1, df_2, on=\"key\", how=\"left\")\n",
    "\n",
    "\"Right merge:\"\n",
    "pd.merge(df_1, df_2, on=\"key\", how=\"right\")\n",
    "\n",
    "\"Outer merge:\"\n",
    "pd.merge(df_1, df_2, on=\"key\", how=\"outer\")"
   ]
  },
  {
   "cell_type": "markdown",
   "metadata": {
    "slideshow": {
     "slide_type": "slide"
    }
   },
   "source": [
    "## Merge with multiple keys"
   ]
  },
  {
   "cell_type": "code",
   "execution_count": null,
   "metadata": {
    "slideshow": {
     "slide_type": "-"
    }
   },
   "outputs": [],
   "source": [
    "\"Initial DataFrames:\"\n",
    "df_1 = pd.DataFrame(\n",
    "    {\n",
    "        \"val_1\": [1, 2, 3, 4],\n",
    "        \"val_2\": [5, 6, 7, 8],\n",
    "        \"key_1\": [\"a\", \"a\", \"b\", \"c\"],\n",
    "        \"key_2\": [\"one\", \"two\", \"one\", \"three\"]\n",
    "    }\n",
    ")\n",
    "\n",
    "df_2 = pd.DataFrame(\n",
    "    {\n",
    "        \"val_3\": [10, 20, 30],\n",
    "        \"val_4\": [40, 50, 60],\n",
    "        \"key_1\": [\"c\", \"a\", \"d\"],\n",
    "        \"key_2\": [\"three\", \"one\", \"two\"]\n",
    "    }\n",
    ")\n",
    "\n",
    "df_1\n",
    "df_2\n",
    "\n",
    "\"After merging\"\n",
    "pd.merge(df_1, df_2, on=[\"key_1\", \"key_2\"])"
   ]
  },
  {
   "cell_type": "markdown",
   "metadata": {
    "slideshow": {
     "slide_type": "slide"
    }
   },
   "source": [
    "## Merging on index\n",
    "\n",
    "In some cases, the merge key(s) will be found in its index. In this case, you can pass `left_index=True` or `right_index=True` (or both)."
   ]
  },
  {
   "cell_type": "code",
   "execution_count": null,
   "metadata": {
    "slideshow": {
     "slide_type": "-"
    }
   },
   "outputs": [],
   "source": [
    "\"Initial DataFrames:\"\n",
    "df_1 = pd.DataFrame(\n",
    "    {\n",
    "        \"val_1\": [1, 2, 3, 4],\n",
    "        \"val_2\": [5, 6, 7, 8],\n",
    "        \"key\": [\"a\", \"a\", \"b\", \"c\"],\n",
    "    }\n",
    ")\n",
    "\n",
    "df_2 = pd.DataFrame(\n",
    "    {\n",
    "        \"val_3\": [10, 20, 30],\n",
    "        \"val_4\": [40, 50, 60]\n",
    "    },    \n",
    "    index=[\"c\", \"a\", \"d\"]\n",
    ")\n",
    "\n",
    "df_1\n",
    "df_2\n",
    "\n",
    "\"After merging\"\n",
    "pd.merge(df_1, df_2, left_on=\"key\", right_index=True)"
   ]
  },
  {
   "cell_type": "markdown",
   "metadata": {
    "slideshow": {
     "slide_type": "slide"
    }
   },
   "source": [
    "## Concatenating DataFrames"
   ]
  },
  {
   "cell_type": "code",
   "execution_count": null,
   "metadata": {
    "slideshow": {
     "slide_type": "-"
    }
   },
   "outputs": [],
   "source": [
    "\"Initial DataFrames:\"\n",
    "df_1 = pd.DataFrame(\n",
    "    np.random.randint(20, size=(3,4)),\n",
    "    columns=[\"a\", \"b\", \"c\", \"d\"]\n",
    ")\n",
    "\n",
    "df_2 = pd.DataFrame(\n",
    "    np.random.randint(20, size=(2,3)),\n",
    "    columns=[\"d\", \"a\", \"c\"]\n",
    ")\n",
    "\n",
    "df_1\n",
    "df_2\n",
    "\n",
    "\"After concat:\"\n",
    "pd.concat([df_1, df_2], ignore_index=True)"
   ]
  },
  {
   "cell_type": "markdown",
   "metadata": {
    "slideshow": {
     "slide_type": "slide"
    }
   },
   "source": [
    "# Pivoting wide to long format"
   ]
  },
  {
   "cell_type": "code",
   "execution_count": null,
   "metadata": {
    "slideshow": {
     "slide_type": "-"
    }
   },
   "outputs": [],
   "source": [
    "\"Wide DataFrame:\"\n",
    "df = pd.DataFrame(\n",
    "    {\n",
    "        \"A\": [1, 2, 3, 4, 5, 6],\n",
    "        \"B\": [7, 8, 9, 10, 11, 12],\n",
    "        \"key\": [\"a\", \"a\", \"b\", \"b\", \"c\", \"c\"],\n",
    "    }\n",
    ")\n",
    "\n",
    "df\n",
    "\n",
    "\"Long DataFrame:\"\n",
    "pd.melt(df, [\"key\"])"
   ]
  },
  {
   "cell_type": "markdown",
   "metadata": {
    "slideshow": {
     "slide_type": "slide"
    }
   },
   "source": [
    "## Pivot long to wide format"
   ]
  },
  {
   "cell_type": "code",
   "execution_count": null,
   "metadata": {
    "slideshow": {
     "slide_type": "-"
    }
   },
   "outputs": [],
   "source": [
    "\"Long DataFrame:\"\n",
    "df = pd.DataFrame(\n",
    "    {\n",
    "        \"age\": [10, 11, 12, 10, 11, 12],\n",
    "        \"sex\": [\"M\", \"M\", \"M\", \"F\", \"F\", \"F\"],\n",
    "        \"prob\": [\"0.6\", \"0.5\", \"0.4\", \"0.9\", \"0.8\", \"0.7\"]\n",
    "    }\n",
    ")\n",
    "\n",
    "df\n",
    "\n",
    "\"Wide DataFrame:\"\n",
    "df.pivot(\"age\", \"sex\", \"prob\")"
   ]
  },
  {
   "cell_type": "markdown",
   "metadata": {
    "slideshow": {
     "slide_type": "slide"
    }
   },
   "source": [
    "<h1 class=\"center_text\">Data aggregation</h1>"
   ]
  },
  {
   "cell_type": "markdown",
   "metadata": {
    "slideshow": {
     "slide_type": "slide"
    }
   },
   "source": [
    "## groupby mechanics\n",
    "\n",
    "Dataframe `groupby` follows the split-apply-group procedure.\n",
    "\n",
    "Data is first split into groups based on one or more keys.\n",
    "\n",
    "After splitting, a function is applied to each group.\n",
    "\n",
    "Finally, results of all those function applications are combined."
   ]
  },
  {
   "cell_type": "markdown",
   "metadata": {
    "slideshow": {
     "slide_type": "slide"
    }
   },
   "source": [
    "## groupby applied to the whole DataFrame"
   ]
  },
  {
   "cell_type": "code",
   "execution_count": null,
   "metadata": {
    "slideshow": {
     "slide_type": "-"
    }
   },
   "outputs": [],
   "source": [
    "df = pd.DataFrame(\n",
    "    [\n",
    "        [\"spain\", \"barcelona\", 25.5, 12.5],\n",
    "        [\"spain\", \"barcelona\", 18.5, 21.3],\n",
    "        [\"spain\", \"barcelona\", 12.5, 43.2],\n",
    "        [\"spain\", \"bilbao\", 14.5, 50.1],\n",
    "        [\"spain\", \"bilbao\", 5.5, 63.3],\n",
    "        [\"france\", \"paris\", 13.5, 48.2],\n",
    "        [\"france\", \"paris\", 17.5, 37.5],\n",
    "        [\"france\", \"lyon\", 10.5, 27.4]\n",
    "    ],\n",
    "    columns=[\"country\", \"city\", \"temp\", \"precipitation\"]\n",
    ")\n",
    "\n",
    "\"All DataFrame, by country:\"\n",
    "df.groupby([\"country\"]).mean()\n",
    "\n",
    "\"All DataFrame, by country and city:\"\n",
    "df.groupby([\"country\", \"city\"]).mean()"
   ]
  },
  {
   "cell_type": "markdown",
   "metadata": {
    "slideshow": {
     "slide_type": "slide"
    }
   },
   "source": [
    "## groupby applied to one column"
   ]
  },
  {
   "cell_type": "code",
   "execution_count": null,
   "metadata": {
    "slideshow": {
     "slide_type": "-"
    }
   },
   "outputs": [],
   "source": [
    "df = pd.DataFrame(\n",
    "    [\n",
    "        [\"spain\", \"barcelona\", 25.5, 12.5],\n",
    "        [\"spain\", \"barcelona\", 18.5, 21.3],\n",
    "        [\"spain\", \"barcelona\", 12.5, 43.2],\n",
    "        [\"spain\", \"bilbao\", 14.5, 50.1],\n",
    "        [\"spain\", \"bilbao\", 5.5, 63.3],\n",
    "        [\"france\", \"paris\", 13.5, 48.2],\n",
    "        [\"france\", \"paris\", 17.5, 37.5],\n",
    "        [\"france\", \"lyon\", 10.5, 27.4]\n",
    "    ],\n",
    "    columns=[\"country\", \"city\", \"temp\", \"precipitation\"]\n",
    ")\n",
    "\n",
    "\"Single column, by country:\"\n",
    "df[\"temp\"].groupby(df[\"country\"]).mean()\n",
    "\n",
    "\"Single column, by country and city:\"\n",
    "df[\"temp\"].groupby([df[\"country\"], df[\"city\"]]).mean()"
   ]
  },
  {
   "cell_type": "markdown",
   "metadata": {
    "slideshow": {
     "slide_type": "slide"
    }
   },
   "source": [
    "## Optimized groupby methods\n",
    "\n",
    "* `count` - Number of non-NA values in the group.\n",
    "* `sum` - Sum of non-NA values.\n",
    "* `mean` - Mean of non-NA values.\n",
    "* `median` - Arithmetic median of non-NA values.\n",
    "* `std`, `var` - Standard deviation and variance.\n",
    "* `mean`, `max` - Minimum and maximum of non-NA values.\n",
    "* `prod` - Product of non-NA values.\n",
    "* `first`, `last` - First and last non-NA values."
   ]
  },
  {
   "cell_type": "markdown",
   "metadata": {
    "slideshow": {
     "slide_type": "slide"
    }
   },
   "source": [
    "## Apply multiple methods"
   ]
  },
  {
   "cell_type": "code",
   "execution_count": null,
   "metadata": {
    "slideshow": {
     "slide_type": "-"
    }
   },
   "outputs": [],
   "source": [
    "df = pd.DataFrame(\n",
    "    [\n",
    "        [\"spain\", \"barcelona\", 25.5, 12.5],\n",
    "        [\"spain\", \"barcelona\", 18.5, 21.3],\n",
    "        [\"spain\", \"barcelona\", 12.5, 43.2],\n",
    "        [\"spain\", \"bilbao\", 14.5, 50.1],\n",
    "        [\"spain\", \"bilbao\", 5.5, 63.3],\n",
    "        [\"france\", \"paris\", 13.5, 48.2],\n",
    "        [\"france\", \"paris\", 17.5, 37.5],\n",
    "        [\"france\", \"lyon\", 10.5, 27.4]\n",
    "    ],\n",
    "    columns=[\"country\", \"city\", \"temp\", \"precipitation\"]\n",
    ")\n",
    "\n",
    "\"All DataFrame, apply mean, min and max:\"\n",
    "df.groupby([\"country\", \"city\"]).agg([\"mean\", \"min\", \"max\"])"
   ]
  },
  {
   "cell_type": "markdown",
   "metadata": {
    "slideshow": {
     "slide_type": "slide"
    }
   },
   "source": [
    "<h1 class=\"center_text\">Questions?</h1>"
   ]
  },
  {
   "cell_type": "markdown",
   "metadata": {
    "slideshow": {
     "slide_type": "slide"
    }
   },
   "source": [
    "<h1 class=\"center_text\">Thank you!</h1>"
   ]
  }
 ],
 "metadata": {
  "celltoolbar": "Slideshow",
  "kernelspec": {
   "display_name": "Python 3",
   "language": "python",
   "name": "python3"
  },
  "language_info": {
   "codemirror_mode": {
    "name": "ipython",
    "version": 3
   },
   "file_extension": ".py",
   "mimetype": "text/x-python",
   "name": "python",
   "nbconvert_exporter": "python",
   "pygments_lexer": "ipython3",
   "version": "3.8.5"
  }
 },
 "nbformat": 4,
 "nbformat_minor": 4
}
