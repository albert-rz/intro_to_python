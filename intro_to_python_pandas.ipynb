{
 "cells": [
  {
   "cell_type": "code",
   "execution_count": null,
   "metadata": {
    "slideshow": {
     "slide_type": "notes"
    }
   },
   "outputs": [],
   "source": [
    "from IPython.core.interactiveshell import InteractiveShell\n",
    "InteractiveShell.ast_node_interactivity = \"all\"\n",
    "\n",
    "import numpy as np\n",
    "import pandas as pd"
   ]
  },
  {
   "cell_type": "markdown",
   "metadata": {
    "slideshow": {
     "slide_type": "slide"
    }
   },
   "source": [
    "\n",
    "# Introduction to Python *-* pandas\n",
    "\n",
    "---\n",
    "\n",
    "<br>\n",
    "EDAA\n",
    "\n",
    "Albert Ruiz"
   ]
  },
  {
   "cell_type": "markdown",
   "metadata": {
    "slideshow": {
     "slide_type": "slide"
    }
   },
   "source": [
    "## Agenda\n",
    "\n",
    "* Introduction to pd.Series\n",
    "* Introduction to pd.DataFrame\n",
    "* Essential functionality"
   ]
  },
  {
   "cell_type": "markdown",
   "metadata": {
    "slideshow": {
     "slide_type": "slide"
    }
   },
   "source": [
    "<h1 class=\"center_text\">Introduction to pd.Series</h1>"
   ]
  },
  {
   "cell_type": "markdown",
   "metadata": {
    "slideshow": {
     "slide_type": "slide"
    }
   },
   "source": [
    "## What is a pd.Series?\n",
    "\n",
    "A series is a one-dimensional array-like object containing a sequence of *values* and an associated array of *labels* used as index."
   ]
  },
  {
   "cell_type": "code",
   "execution_count": null,
   "metadata": {
    "slideshow": {
     "slide_type": "-"
    }
   },
   "outputs": [],
   "source": [
    "# Default index\n",
    "obj = pd.Series([10, 20, 30])\n",
    "obj\n",
    "\n",
    "# Custom labels\n",
    "obj = pd.Series([10, 20, 30], index=['a', 'b', 'c'])\n",
    "obj\n",
    "\n",
    "# Labels can be numbers and values can be strings too\n",
    "obj = pd.Series(['a', 'b', 'c'], index=[10, 20, 30])\n",
    "obj"
   ]
  },
  {
   "cell_type": "markdown",
   "metadata": {
    "slideshow": {
     "slide_type": "slide"
    }
   },
   "source": [
    "## Basic selection\n",
    "\n",
    "Compared with NumPy arrays, you can use labels when selecting values."
   ]
  },
  {
   "cell_type": "code",
   "execution_count": null,
   "metadata": {
    "slideshow": {
     "slide_type": "-"
    }
   },
   "outputs": [],
   "source": [
    "# Default indexes\n",
    "obj = pd.Series([10, 20, 30])\n",
    "\n",
    "# Single value\n",
    "f\"Accessing a single value: {obj[2]}\"\n",
    "\n",
    "# Set of values\n",
    "f\"Accessing a set of values:\"\n",
    "obj[1:3]\n",
    "\n",
    "# Custom labels\n",
    "obj = pd.Series([10, 20, 30], index=['a', 'b', 'c'])\n",
    "\n",
    "# Single value\n",
    "f\"Accessing a single value by label: {obj['c']}\"\n",
    "\n",
    "# Set of values\n",
    "f\"Accessing a set of values by labels:\"\n",
    "obj[['b', 'c']]\n"
   ]
  },
  {
   "cell_type": "markdown",
   "metadata": {
    "slideshow": {
     "slide_type": "slide"
    }
   },
   "source": [
    "## pd.Series attributes\n",
    "\n",
    "Alls series have the following attributes:\n",
    "\n",
    "* `dtype` - Return the dtype object of the underlying data.\n",
    "* `hasnans` - Return if I have any nans; enables various perf speedups.\n",
    "* `iat` - Access a single value for a row/column pair by integer position.\n",
    "* `index` - The index (labels) of the Series.\n",
    "* `is_monotonic` - Return True if values in the object are monotonic_increasing.\n",
    "* `is_monotonic_decreasing` - Return True if values in the object are monotonic_decreasing.\n",
    "* `is_unique` - Return True if values in the object are unique.\n",
    "* `loc` - Access a group of rows and columns by label(s) or a boolean array.\n",
    "* `ndim` - Number of dimensions of the underlying data.\n",
    "* `shape` - Return a tuple of the shape of the underlying data.\n",
    "* `size` - Return the number of elements in the underlying data.\n",
    "* `values` - Return Series as ndarray or ndarray-like depending on the dtype.\n",
    "\n",
    "You can find the full list of attributes in this [link](https://pandas.pydata.org/docs/reference/api/pandas.Series.html)."
   ]
  },
  {
   "cell_type": "markdown",
   "metadata": {
    "slideshow": {
     "slide_type": "slide"
    }
   },
   "source": [
    "## Using pd.Series attributes"
   ]
  },
  {
   "cell_type": "code",
   "execution_count": null,
   "metadata": {
    "slideshow": {
     "slide_type": "-"
    }
   },
   "outputs": [],
   "source": [
    "obj = pd.Series([10, 20, 30], index=['a', 'b', 'c'])\n",
    "\n",
    "# Value and index\n",
    "f\"Values: {obj.values}\"\n",
    "f\"Type: {type(obj.values)}\"\n",
    "f\"Indexes: {obj.index}\"\n",
    "\n",
    "# Accessing\n",
    "f\"Accessing by integer position: {obj.iat[2]}\"\n",
    "f\"Accessing by label: {obj.loc['c']}\"\n",
    "\n",
    "# Monotonic\n",
    "f\"Is monotonic: {obj.is_monotonic}\"\n",
    "\n",
    "# Unique\n",
    "f\"Is unique: {obj.is_unique}\"\n",
    "\n",
    "# Dimension, shape and size\n",
    "f\"Number of dimensions: {obj.ndim}\"\n",
    "f\"Shape: {obj.shape}\"\n",
    "f\"Size: {obj.size}\""
   ]
  },
  {
   "cell_type": "markdown",
   "metadata": {
    "slideshow": {
     "slide_type": "slide"
    }
   },
   "source": [
    "## pd.Series methods\n",
    "\n",
    "All series have the following methods:\n",
    "\n",
    "* `abs()` - Return a Series with absolute numeric value of each element.\n",
    "* `add()` - Add value to series, element-wise.\n",
    "* `mul()` and `div()` - Multiply/Divide by value or series, element wise.\n",
    "* `pow()` - Return exponential power of series and value or series.\n",
    "* `all()` - Return whether all elements are True.\n",
    "* `any()` - Return whether any elements are True.\n",
    "* `append()` - Concatenate series.\n",
    "* `argmax()` and `argmin()` - Return the int position of the largest/smallest value.\n",
    "* `max()` and `min()` - Return the maximum/minimumb value.\n",
    "* `sum()` - Return the sum of the values.\n",
    "* `mean()` and `median()` - Returnthe mean and the median of the values.\n",
    "\n",
    "You can find the full list of attributes in this [link](https://pandas.pydata.org/docs/reference/api/pandas.Series.html)."
   ]
  },
  {
   "cell_type": "markdown",
   "metadata": {
    "slideshow": {
     "slide_type": "slide"
    }
   },
   "source": [
    "## Using pd.Series methods"
   ]
  },
  {
   "cell_type": "code",
   "execution_count": null,
   "metadata": {
    "slideshow": {
     "slide_type": "-"
    }
   },
   "outputs": [],
   "source": [
    "obj = pd.Series([1, 5, 2], index=['a', 'b', 'c'])\n",
    "\n",
    "#  Multiply by value\n",
    "\"Multiply by value:\"\n",
    "obj.mul(2)\n",
    "\n",
    "# Multiply by series\n",
    "\"Multiply by series:\"\n",
    "obj.mul(obj)\n",
    "\n",
    "# Sum, mean and median\n",
    "f\"Sum: {obj.sum()}\"\n",
    "f\"Mean: {obj.mean()}\"\n",
    "f\"Median: {obj.median()}\"\n",
    "\n",
    "# Findind maximum value\n",
    "f\"Max: {obj.max()}\"\n",
    "f\"Max value is at: {obj.argmax()}\""
   ]
  },
  {
   "cell_type": "markdown",
   "metadata": {
    "slideshow": {
     "slide_type": "slide"
    }
   },
   "source": [
    "# Using NumPy functions\n",
    "\n",
    "NumPy functions and NumPy-like operations (filtering, scalar multiplication, applying maths functions...) can be used with pd.Series. Index-value links are preserved."
   ]
  },
  {
   "cell_type": "code",
   "execution_count": null,
   "metadata": {
    "slideshow": {
     "slide_type": "-"
    }
   },
   "outputs": [],
   "source": [
    "obj = pd.Series([1, 5, 2], index=['a', 'b', 'c'])\n",
    "\n",
    "# NumPy-like operations examples\n",
    "\n",
    "\"Boolean filter:\"\n",
    "obj[obj >= 2]\n",
    "\n",
    "\"Element wise multiplication:\"\n",
    "obj * 2\n",
    "\n",
    "# Numpy functions\n",
    "\n",
    "\"Power\"\n",
    "np.power(obj, 3)\n",
    "\n",
    "\"Flip\"\n",
    "np.flip(obj)"
   ]
  },
  {
   "cell_type": "markdown",
   "metadata": {
    "slideshow": {
     "slide_type": "slide"
    }
   },
   "source": [
    "<h1 class=\"center_text\">Introduction to pd.DataFrame</h1>"
   ]
  },
  {
   "cell_type": "markdown",
   "metadata": {
    "slideshow": {
     "slide_type": "slide"
    }
   },
   "source": [
    "## What is a pd.DataFrame?\n",
    "\n",
    "A DataFrame represents a rectangular table of data.\n",
    "\n",
    "It contains an ordered collection of columns, each of which can be a different value type (numeric, string, boolean, etc.)."
   ]
  },
  {
   "cell_type": "code",
   "execution_count": null,
   "metadata": {
    "slideshow": {
     "slide_type": "-"
    }
   },
   "outputs": [],
   "source": [
    "data = {\n",
    "    \"name\": [\"Max\", \"Sarah\", \"John\"],\n",
    "    \"surname\": [\"Rockatansky\", \"Connor\", \"McClane\"],\n",
    "    \"sex\": [\"M\", \"F\", \"M\"],\n",
    "    \"age\": [35, 25, 40]\n",
    "}\n",
    "\n",
    "df = pd.DataFrame(data)\n",
    "df\n"
   ]
  },
  {
   "cell_type": "markdown",
   "metadata": {
    "slideshow": {
     "slide_type": "slide"
    }
   },
   "source": [
    "## Constructors"
   ]
  },
  {
   "cell_type": "code",
   "execution_count": null,
   "metadata": {
    "slideshow": {
     "slide_type": "-"
    }
   },
   "outputs": [],
   "source": [
    "# Constructors\n",
    "\"From dict\"\n",
    "df = pd.DataFrame(\n",
    "    {\"name\": [\"Max\", \"Sarah\", \"John\"],\n",
    "     \"surname\": [\"Rockatansky\", \"Connor\", \"McClane\"],\n",
    "     \"sex\": [\"M\", \"F\", \"M\"],\n",
    "     \"age\": [35, 25, 40]}\n",
    ")\n",
    "df\n",
    "\n",
    "\"From list of lists (or list of tuples)\"\n",
    "df = pd.DataFrame(\n",
    "    [[\"Max\", \"Rockatansky\", \"M\", 35],\n",
    "     [\"Sarah\", \"Connor\", \"F\", 25],\n",
    "     [\"John\", \"McClane\", \"M\", 40]]\n",
    ")\n",
    "df"
   ]
  },
  {
   "cell_type": "markdown",
   "metadata": {
    "slideshow": {
     "slide_type": "slide"
    }
   },
   "source": [
    "## Custom indexes\n",
    "\n",
    "By default, rows are numbered. You can also define a label for each row:"
   ]
  },
  {
   "cell_type": "code",
   "execution_count": null,
   "metadata": {
    "slideshow": {
     "slide_type": "-"
    }
   },
   "outputs": [],
   "source": [
    "df = pd.DataFrame(\n",
    "    {\"name\": [\"Max\", \"Sarah\", \"John\"],\n",
    "     \"surname\": [\"Rockatansky\", \"Connor\", \"McClane\"],\n",
    "     \"sex\": [\"M\", \"F\", \"M\"],\n",
    "     \"age\": [35, 25, 40]},\n",
    "    index=[\"a\", \"b\", \"c\"]\n",
    ")\n",
    "df"
   ]
  },
  {
   "cell_type": "markdown",
   "metadata": {
    "slideshow": {
     "slide_type": "slide"
    }
   },
   "source": [
    "<h1 class=\"center_text\">Essential fucntionality</h1>"
   ]
  },
  {
   "cell_type": "markdown",
   "metadata": {
    "slideshow": {
     "slide_type": "slide"
    }
   },
   "source": [
    "### *Note*\n",
    "\n",
    "This section only covers functions used with pd.DataFrames. However, most of them can also be used with pd.Series."
   ]
  },
  {
   "cell_type": "markdown",
   "metadata": {
    "slideshow": {
     "slide_type": "slide"
    }
   },
   "source": [
    "## Reindexing\n",
    "\n",
    "Reindexing means tocreate a new object with the data conformed to a new index."
   ]
  },
  {
   "cell_type": "code",
   "execution_count": null,
   "metadata": {
    "slideshow": {
     "slide_type": "-"
    }
   },
   "outputs": [],
   "source": [
    "\"Original\"\n",
    "df_1 = pd.DataFrame(\n",
    "    {\"name\": [\"Max\", \"Sarah\", \"John\"],\n",
    "     \"surname\": [\"Rockatansky\", \"Connor\", \"McClane\"],\n",
    "     \"sex\": [\"M\", \"F\", \"M\"],\n",
    "     \"age\": [35, 25, 40]},\n",
    "    index=[\"a\", \"b\", \"c\"]\n",
    ")\n",
    "df_1\n",
    "\n",
    "\"Reindexing\"\n",
    "df_2 = df_1.reindex(['a', 'c', 'b'])\n",
    "df_2\n",
    "\n",
    "\"Reindexing and adding a new index\"\n",
    "df_3 = df_1.reindex(['a', 'c', 'd', 'b'])\n",
    "df_3"
   ]
  },
  {
   "cell_type": "markdown",
   "metadata": {
    "slideshow": {
     "slide_type": "slide"
    }
   },
   "source": [
    "## Reseting index"
   ]
  },
  {
   "cell_type": "code",
   "execution_count": null,
   "metadata": {
    "slideshow": {
     "slide_type": "-"
    }
   },
   "outputs": [],
   "source": [
    "\"Original\"\n",
    "df_1 = pd.DataFrame(\n",
    "    {\"name\": [\"Max\", \"Sarah\", \"John\"],\n",
    "     \"surname\": [\"Rockatansky\", \"Connor\", \"McClane\"],\n",
    "     \"sex\": [\"M\", \"F\", \"M\"],\n",
    "     \"age\": [35, 25, 40]},\n",
    "    index=[\"a\", \"b\", \"c\"]\n",
    ")\n",
    "df_1\n",
    "\n",
    "\"Reseting without dropping\"\n",
    "df_2 = df_1.reset_index(drop=False)\n",
    "df_2\n",
    "\n",
    "\"Reseting with dropping\"\n",
    "df_3 = df_1.reset_index(drop=True)\n",
    "df_3"
   ]
  },
  {
   "cell_type": "markdown",
   "metadata": {
    "slideshow": {
     "slide_type": "slide"
    }
   },
   "source": [
    "## Dropping entries"
   ]
  },
  {
   "cell_type": "code",
   "execution_count": null,
   "metadata": {
    "slideshow": {
     "slide_type": "-"
    }
   },
   "outputs": [],
   "source": [
    "\"Original\"\n",
    "df_1 = pd.DataFrame(\n",
    "    {\"name\": [\"Max\", \"Sarah\", \"John\"],\n",
    "     \"surname\": [\"Rockatansky\", \"Connor\", \"McClane\"],\n",
    "     \"sex\": [\"M\", \"F\", \"M\"],\n",
    "     \"age\": [35, 25, 40]},\n",
    "    index=[\"a\", \"b\", \"c\"]\n",
    ")\n",
    "df_1\n",
    "\n",
    "\"Dropping rows\"\n",
    "df_2 = df_1.drop([\"c\", \"b\"])\n",
    "df_2\n",
    "\n",
    "\"Dropping columns\"\n",
    "df_3 = df_1.drop([\"sex\", \"surname\"], axis='columns')\n",
    "df_3"
   ]
  },
  {
   "cell_type": "markdown",
   "metadata": {
    "slideshow": {
     "slide_type": "slide"
    }
   },
   "source": [
    "## Indexing\n",
    "\n",
    "Indexing into a DataFrame is for retrieving one or more columns."
   ]
  },
  {
   "cell_type": "code",
   "execution_count": null,
   "metadata": {
    "slideshow": {
     "slide_type": "-"
    }
   },
   "outputs": [],
   "source": [
    "df = pd.DataFrame(\n",
    "    np.arange(16).reshape(4,4),\n",
    "    columns=[\"one\", \"two\", \"three\", \"four\"],\n",
    "    index=[\"france\", \"italy\", \"slovakia\", \"spain\"]\n",
    ")\n",
    "df\n",
    "\n",
    "\"One column\"\n",
    "df[\"three\"]\n",
    "\n",
    "\"Multiple columns\"\n",
    "df[[\"three\", \"one\"]]"
   ]
  },
  {
   "cell_type": "markdown",
   "metadata": {
    "slideshow": {
     "slide_type": "slide"
    }
   },
   "source": [
    "## Selection with loc"
   ]
  },
  {
   "cell_type": "markdown",
   "metadata": {
    "slideshow": {
     "slide_type": "slide"
    }
   },
   "source": [
    "## Conditional indexing"
   ]
  },
  {
   "cell_type": "code",
   "execution_count": null,
   "metadata": {
    "slideshow": {
     "slide_type": "-"
    }
   },
   "outputs": [],
   "source": [
    "df = pd.DataFrame(\n",
    "    np.arange(16).reshape(4,4),\n",
    "    columns=[\"one\", \"two\", \"three\", \"four\"],\n",
    "    index=[\"france\", \"italy\", \"slovakia\", \"spain\"]\n",
    ")\n",
    "df"
   ]
  }
 ],
 "metadata": {
  "celltoolbar": "Slideshow",
  "kernelspec": {
   "display_name": "Python 3",
   "language": "python",
   "name": "python3"
  },
  "language_info": {
   "codemirror_mode": {
    "name": "ipython",
    "version": 3
   },
   "file_extension": ".py",
   "mimetype": "text/x-python",
   "name": "python",
   "nbconvert_exporter": "python",
   "pygments_lexer": "ipython3",
   "version": "3.8.5"
  }
 },
 "nbformat": 4,
 "nbformat_minor": 4
}
