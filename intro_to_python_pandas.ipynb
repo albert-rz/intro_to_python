{
 "cells": [
  {
   "cell_type": "code",
   "execution_count": null,
   "metadata": {
    "slideshow": {
     "slide_type": "notes"
    }
   },
   "outputs": [],
   "source": [
    "from IPython.core.interactiveshell import InteractiveShell\n",
    "InteractiveShell.ast_node_interactivity = \"all\"\n",
    "\n",
    "import pandas as pd"
   ]
  },
  {
   "cell_type": "markdown",
   "metadata": {
    "slideshow": {
     "slide_type": "slide"
    }
   },
   "source": [
    "\n",
    "# Introduction to Python *-* pandas\n",
    "\n",
    "---\n",
    "\n",
    "<br>\n",
    "EDAA\n",
    "\n",
    "Albert Ruiz"
   ]
  },
  {
   "cell_type": "markdown",
   "metadata": {
    "slideshow": {
     "slide_type": "slide"
    }
   },
   "source": [
    "## Agenda\n",
    "\n",
    "* pd.Series"
   ]
  },
  {
   "cell_type": "markdown",
   "metadata": {
    "slideshow": {
     "slide_type": "slide"
    }
   },
   "source": [
    "<h1 class=\"center_text\">pd.Series</h1>"
   ]
  },
  {
   "cell_type": "markdown",
   "metadata": {
    "slideshow": {
     "slide_type": "slide"
    }
   },
   "source": [
    "## Introduction to pd.Series\n",
    "\n",
    "A series is a one-dimensional array-like object containing a sequence of *values* and an associated array of *labels* used as index."
   ]
  },
  {
   "cell_type": "code",
   "execution_count": null,
   "metadata": {
    "slideshow": {
     "slide_type": "-"
    }
   },
   "outputs": [],
   "source": [
    "# Default index\n",
    "obj = pd.Series([10, 20, 30, 40])\n",
    "obj\n",
    "\n",
    "# Custom labels\n",
    "obj = pd.Series([10, 20, 30, 40], index=['a', 'b', 'c', 'd'])\n",
    "obj\n",
    "\n",
    "# Labels can be numbers and values can be strings too\n",
    "obj = pd.Series(['a', 'b', 'c', 'd'], index=[10, 20, 30, 40])\n",
    "obj"
   ]
  },
  {
   "cell_type": "markdown",
   "metadata": {
    "slideshow": {
     "slide_type": "slide"
    }
   },
   "source": [
    "## pd.Series attributes\n",
    "\n",
    "Alls series have the following attributes:\n",
    "\n",
    "* `dtype` - Return the dtype object of the underlying data.\n",
    "* `hasnans` - Return if I have any nans; enables various perf speedups.\n",
    "* `iat` - Access a single value for a row/column pair by integer position.\n",
    "* `index` - The index (labels) of the Series.\n",
    "* `is_monotonic` - Return True if values in the object are monotonic_increasing.\n",
    "* `is_monotonic_decreasing` - Return True if values in the object are monotonic_decreasing.\n",
    "* `is_unique` - Return True if values in the object are unique.\n",
    "* `loc` - Access a group of rows and columns by label(s) or a boolean array.\n",
    "* `ndim` - Number of dimensions of the underlying data.\n",
    "* `shape` - Return a tuple of the shape of the underlying data.\n",
    "* `size` - Return the number of elements in the underlying data.\n",
    "* `values` - Return Series as ndarray or ndarray-like depending on the dtype.\n",
    "\n",
    "You can find the full list of attributes in this [link](https://pandas.pydata.org/docs/reference/api/pandas.Series.html)."
   ]
  },
  {
   "cell_type": "markdown",
   "metadata": {
    "slideshow": {
     "slide_type": "slide"
    }
   },
   "source": [
    "## Using pd.Series attributes"
   ]
  },
  {
   "cell_type": "code",
   "execution_count": null,
   "metadata": {
    "slideshow": {
     "slide_type": "-"
    }
   },
   "outputs": [],
   "source": [
    "obj = pd.Series([10, 20, 30, 40], index=['a', 'b', 'c', 'd'])\n",
    "\n",
    "# Value and index\n",
    "f\"Values: {obj.values}\"\n",
    "f\"The type of values should be a Numpy ndarray: {type(obj.values)}\"\n",
    "f\"Indexes: {obj.index}\"\n",
    "\n",
    "# Accessing\n",
    "f\"Accessing by integer position: {obj.iat[2]}\"\n",
    "f\"Accessing by label: {obj.loc['c']}\"\n",
    "\n",
    "# Monotonic\n",
    "f\"Is monotonic: {obj.is_monotonic}\"\n",
    "\n",
    "# Unique\n",
    "f\"Is unique: {obj.is_unique}\"\n",
    "\n",
    "# Dimension, shape and size\n",
    "f\"Number of dimensions: {obj.ndim}\"\n",
    "f\"Shape: {obj.shape}\"\n",
    "f\"Size: {obj.size}\""
   ]
  },
  {
   "cell_type": "markdown",
   "metadata": {
    "slideshow": {
     "slide_type": "slide"
    }
   },
   "source": [
    "## Selecting values\n",
    "\n",
    "Compared with NumPy arrays, you can use labels when selecting values."
   ]
  },
  {
   "cell_type": "code",
   "execution_count": null,
   "metadata": {
    "slideshow": {
     "slide_type": "-"
    }
   },
   "outputs": [],
   "source": [
    "# Default indexes\n",
    "obj = pd.Series([10, 20, 30, 40])\n",
    "\n",
    "# Single value\n",
    "f\"Accessing a single value: {obj[2]}\"\n",
    "\n",
    "# Set of values\n",
    "f\"Accessing a set of values:\"\n",
    "obj[1:3]\n",
    "\n",
    "# Custom labels\n",
    "obj = pd.Series([10, 20, 30, 40], index=['a', 'b', 'c', 'd'])\n",
    "\n",
    "# Single value\n",
    "f\"Accessing a single value by label: {obj['c']}\"\n",
    "\n",
    "# Set of values\n",
    "f\"Accessing a set of values by labels:\"\n",
    "obj[['b', 'c']]\n"
   ]
  },
  {
   "cell_type": "markdown",
   "metadata": {
    "slideshow": {
     "slide_type": "slide"
    }
   },
   "source": [
    "## pd.Series methods\n",
    "\n",
    "All series have the following methods:\n",
    "\n",
    "* `abs()` - Return a Series with absolute numeric value of each element.\n",
    "* `add()` - Add value to series, element-wise.\n",
    "* `mul()` and `div()` - Multiply/Divide by value or series, element wise.\n",
    "* `pow()` - Return exponential power of series and value or series.\n",
    "* `all()` - Return whether all elements are True.\n",
    "* `any()` - Return whether any elements are True.\n",
    "* `append()` - Concatenate series.\n",
    "* `argmax()` and `argmin()` - Return the int position of the largest/smallest value.\n",
    "* `max()` and `min()` - Return the maximum/minimumb value.\n",
    "* `sum()` - Return the sum of the values.\n",
    "* `mean()` and `median()` - Returnthe mean and the median of the values.\n",
    "\n",
    "You can find the full list of attributes in this [link](https://pandas.pydata.org/docs/reference/api/pandas.Series.html)."
   ]
  },
  {
   "cell_type": "markdown",
   "metadata": {
    "slideshow": {
     "slide_type": "slide"
    }
   },
   "source": [
    "## Using pd.Series methods"
   ]
  },
  {
   "cell_type": "code",
   "execution_count": null,
   "metadata": {},
   "outputs": [],
   "source": [
    "obj = pd.Series([1, 2, 2, 5], index=['a', 'b', 'c', 'd'])\n",
    "\n",
    "#  Multiply by value\n",
    "\"Multiply by value:\"\n",
    "obj.mul(2)\n",
    "\n",
    "# Multiply by series\n",
    "\"Multiply by series:\"\n",
    "obj.mul(obj)\n",
    "\n",
    "# Sum, mean and median\n",
    "f\"Sum: {obj.sum()}\"\n",
    "f\"Mean: {obj.mean()}\"\n",
    "f\"Median: {obj.median()}\"\n",
    "\n",
    "# Findind maximum value\n",
    "f\"Max: {obj.max()}\"\n",
    "f\"Max value is at: {obj.argmax()}\""
   ]
  }
 ],
 "metadata": {
  "celltoolbar": "Slideshow",
  "kernelspec": {
   "display_name": "Python 3",
   "language": "python",
   "name": "python3"
  },
  "language_info": {
   "codemirror_mode": {
    "name": "ipython",
    "version": 3
   },
   "file_extension": ".py",
   "mimetype": "text/x-python",
   "name": "python",
   "nbconvert_exporter": "python",
   "pygments_lexer": "ipython3",
   "version": "3.8.5"
  }
 },
 "nbformat": 4,
 "nbformat_minor": 4
}
