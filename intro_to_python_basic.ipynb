{
 "cells": [
  {
   "cell_type": "code",
   "execution_count": null,
   "metadata": {
    "slideshow": {
     "slide_type": "notes"
    }
   },
   "outputs": [],
   "source": [
    "from IPython.core.interactiveshell import InteractiveShell\n",
    "InteractiveShell.ast_node_interactivity = \"all\""
   ]
  },
  {
   "cell_type": "markdown",
   "metadata": {
    "slideshow": {
     "slide_type": "slide"
    }
   },
   "source": [
    "\n",
    "# Introduction to Python *-* Basic\n",
    "\n",
    "---\n",
    "\n",
    "<br>\n",
    "Albert Ruiz"
   ]
  },
  {
   "cell_type": "markdown",
   "metadata": {
    "slideshow": {
     "slide_type": "slide"
    }
   },
   "source": [
    "## Who created Python?\n",
    "\n"
   ]
  },
  {
   "cell_type": "markdown",
   "metadata": {
    "slideshow": {
     "slide_type": "fragment"
    }
   },
   "source": [
    "It was the Dutch programmer *Guido van Rossum* in 1991."
   ]
  },
  {
   "cell_type": "markdown",
   "metadata": {
    "slideshow": {
     "slide_type": "slide"
    }
   },
   "source": [
    "## Why is it called Python?"
   ]
  },
  {
   "cell_type": "markdown",
   "metadata": {
    "slideshow": {
     "slide_type": "fragment"
    }
   },
   "source": [
    "It's called Python after *Monty Python’s Flying Circus*!"
   ]
  },
  {
   "cell_type": "markdown",
   "metadata": {
    "slideshow": {
     "slide_type": "slide"
    }
   },
   "source": [
    "## Agenda\n",
    "\n",
    "* Built-in data types\n",
    "* Built-in data structures\n",
    "* Built-in sequence functions\n",
    "* Operators\n",
    "* Control flow\n",
    "* Functions\n",
    "* Exceptions\n",
    "* Naming conventions\n",
    "* Interpreters\n",
    "* Numpy\n",
    "* Homework\n",
    "    * Built-in Math operations"
   ]
  },
  {
   "cell_type": "markdown",
   "metadata": {
    "slideshow": {
     "slide_type": "slide"
    }
   },
   "source": [
    "<h1 class=\"center_text\">Built-in data types</h1>"
   ]
  },
  {
   "cell_type": "markdown",
   "metadata": {
    "slideshow": {
     "slide_type": "slide"
    }
   },
   "source": [
    "## str\n",
    "\n",
    "String type, holds Unicode (UTF-8 encoded) strings. "
   ]
  },
  {
   "cell_type": "code",
   "execution_count": null,
   "metadata": {
    "slideshow": {
     "slide_type": "-"
    }
   },
   "outputs": [],
   "source": [
    "# String literals are defined with quotes or double quotes\n",
    "foo = 'Hello'\n",
    "bar = \"world\"\n",
    "\n",
    "print(\"Printing:\", foo) # The comma adds an empty space\n",
    "print(\"Printing:\", bar)\n",
    "print(foo + ' ' + bar)\n",
    "\n",
    "# For multiple strings, we use triple quotes ''' or (\"\"\")\n",
    "foo = '''\n",
    "The lazy dog jumped over\n",
    "the sleeping fox\n",
    "'''\n",
    "\n",
    "# Notice the empty line\n",
    "print(foo)\n",
    "\n",
    "# Unicode in UTF-8\n",
    "print(\"こんにちは世界\")"
   ]
  },
  {
   "cell_type": "markdown",
   "metadata": {
    "slideshow": {
     "slide_type": "slide"
    }
   },
   "source": [
    "## Common string operations"
   ]
  },
  {
   "cell_type": "code",
   "execution_count": null,
   "metadata": {
    "slideshow": {
     "slide_type": "-"
    }
   },
   "outputs": [],
   "source": [
    "# Multiple variables definition\n",
    "foo, bar = 'Hello', \"world\"\n",
    "\n",
    "# Lower and upper\n",
    "f\"To upper: {foo.upper()} to lower: {foo.lower()}\"\n",
    "\n",
    "# Capitalize\n",
    "f\"Capitalize: {bar.capitalize()}\"\n",
    "\n",
    "# Selection and slicing\n",
    "f\"First char: {foo[0]} Last char: {foo[-1]}\"\n",
    "f\"First 3 chars: {foo[:3]} Last 3 chars: {foo[-3:]}\"\n",
    "\n",
    "# Count\n",
    "f\"Count 'l': {foo.count('l')}\"\n",
    "\n",
    "# Finding a char\n",
    "f\"Char 'e' is at pos: {foo.find('e')}\"\n",
    "f\"Char 'l' is at pos: {foo.find('l')}\"\n",
    "\n",
    "# Replacing (notice operation is not in-place)\n",
    "bar = bar.replace(\"ld\", \"d!\")\n",
    "f\"After replacing: {bar}\""
   ]
  },
  {
   "cell_type": "markdown",
   "metadata": {
    "slideshow": {
     "slide_type": "slide"
    }
   },
   "source": [
    "## More string operations"
   ]
  },
  {
   "cell_type": "code",
   "execution_count": null,
   "metadata": {
    "slideshow": {
     "slide_type": "-"
    }
   },
   "outputs": [],
   "source": [
    "text = \"The lazy dog jumped over the sleeping fox\"\n",
    "\n",
    "# Split\n",
    "f\"Splitting by spaces: {text.split(' ')}\"\n",
    "f\"Splitting by 'over': {text.split('over')}\"\n",
    "\n",
    "# Join\n",
    "f\"Joining with spaces: {' '.join(['how', 'are', 'you'])}\"\n",
    "f\"Joining with '_': {'_'.join(['how', 'are', 'you'])}\"\n",
    "\n",
    "# Stars with\n",
    "\"How you doing?\".startswith(\"How\")\n",
    "\n",
    "# Ends with\n",
    "\"How you doing?\".endswith(\"?\")\n",
    "\n",
    "# zfill (notice the value is transformed to str)\n",
    "x = 1234\n",
    "f\"Fill 12345 with left zeroes: {str(x).zfill(10)}\"\n"
   ]
  },
  {
   "cell_type": "markdown",
   "metadata": {
    "slideshow": {
     "slide_type": "slide"
    }
   },
   "source": [
    "## Exercise: string operations\n",
    "\n",
    "Given a the filepath `/home/user/file.csv`, how would you get:\n",
    "\n",
    "* The folders?\n",
    "* The name of the file?\n",
    "* The file extension"
   ]
  },
  {
   "cell_type": "code",
   "execution_count": null,
   "metadata": {
    "slideshow": {
     "slide_type": "fragment"
    }
   },
   "outputs": [],
   "source": [
    "filepath = '/home/user/file.csv'\n",
    "\n",
    "filepath_split = filepath.split('/')\n",
    "\n",
    "folders = filepath_split[1:-1]\n",
    "file = filepath_split[-1]\n",
    "\n",
    "pos = file.index('.')\n",
    "extension = file[pos:]\n",
    "\n",
    "\n",
    "folders\n",
    "file\n",
    "extension\n",
    "\n",
    "# Note\n",
    "#\n",
    "# Python's `os.path` package includes dedicated\n",
    "# functions for paths manipulations."
   ]
  },
  {
   "cell_type": "markdown",
   "metadata": {
    "slideshow": {
     "slide_type": "slide"
    }
   },
   "source": [
    "## int\n",
    "\n",
    "Signed integer with arbitrary precision (32-bit or 64-bit)."
   ]
  },
  {
   "cell_type": "code",
   "execution_count": null,
   "metadata": {
    "slideshow": {
     "slide_type": "-"
    }
   },
   "outputs": [],
   "source": [
    "foo, bar = 10, 50\n",
    "\n",
    "# Addition, subtraction, multiplication\n",
    "f\"Add: {foo + bar}\"\n",
    "f\"Sub: {foo - bar}\"\n",
    "f\"Mul: {foo * bar}\"\n",
    "\n",
    "# Division may convert result into a float\n",
    "f\"Division result: {foo / bar}\"\n",
    "\n",
    "# An int can store arbitrary\n",
    "f\"Exp result: {foo ** bar}\""
   ]
  },
  {
   "cell_type": "markdown",
   "metadata": {
    "slideshow": {
     "slide_type": "slide"
    }
   },
   "source": [
    "## float\n",
    "\n",
    "Double-precision (64-bit) floating-point numbers."
   ]
  },
  {
   "cell_type": "code",
   "execution_count": null,
   "metadata": {
    "slideshow": {
     "slide_type": "-"
    }
   },
   "outputs": [],
   "source": [
    "foo, bar = 10.5, 50.5\n",
    "\n",
    "# Addition, subtraction, multiplication\n",
    "f\"Add: {foo + bar}\"\n",
    "f\"Sub: {foo - bar}\"\n",
    "f\"Mul: {foo * bar}\"\n",
    "\n",
    "# Division may convert result into a float\n",
    "f\"Division result: {foo / bar}\"\n",
    "\n",
    "# An int can store arbitrary\n",
    "f\"Exp result: {4.0 ** 0.5}\"\n"
   ]
  },
  {
   "cell_type": "markdown",
   "metadata": {
    "slideshow": {
     "slide_type": "slide"
    }
   },
   "source": [
    "## bool\n",
    "\n",
    "A `True` or `False` value."
   ]
  },
  {
   "cell_type": "code",
   "execution_count": null,
   "metadata": {
    "slideshow": {
     "slide_type": "-"
    }
   },
   "outputs": [],
   "source": [
    "# Sometimes it is the result of an operation\n",
    "2 < 3\n",
    "\n",
    "# Or it can be a variable\n",
    "do_action = True\n",
    "\n",
    "if do_action:\n",
    "    print(\"Hello\")\n",
    "    \n",
    "# Boolean values can be combined with logical operations\n",
    "if not do_action:\n",
    "    print(\"This should not be printed\")\n",
    "    \n",
    "if do_action and True:\n",
    "    print(\"This should be printed\")"
   ]
  },
  {
   "cell_type": "markdown",
   "metadata": {
    "slideshow": {
     "slide_type": "slide"
    }
   },
   "source": [
    "## Type casting\n",
    "\n",
    "`str()`, `int()`, `float()` and `bool()` are also functions that can be used to cast values (i.e. to change data type)."
   ]
  },
  {
   "cell_type": "code",
   "execution_count": null,
   "metadata": {
    "slideshow": {
     "slide_type": "-"
    }
   },
   "outputs": [],
   "source": [
    "# To float\n",
    "pi = \"3.1415\"\n",
    "pi = float(pi)\n",
    "\n",
    "f\"After casting,  pi is: {type(pi)}\"\n",
    "\n",
    "# To string\n",
    "pi = 3.1415\n",
    "pi = str(pi)\n",
    "\n",
    "f\"After casting, pi is: {type(pi)}\"\n",
    "\n",
    "# To bool\n",
    "foo, bar = 0.0, \"1\"\n",
    "\n",
    "foo = bool(foo)\n",
    "bar = bool(bar)\n",
    "\n",
    "f\"After casting, foo is: {foo} bar is: {bar}\""
   ]
  },
  {
   "cell_type": "markdown",
   "metadata": {
    "slideshow": {
     "slide_type": "slide"
    }
   },
   "source": [
    "## None\n",
    "\n",
    "`None` is the Python null value type. It can be used for variables that have not been assigned any value."
   ]
  },
  {
   "cell_type": "code",
   "execution_count": null,
   "metadata": {
    "slideshow": {
     "slide_type": "-"
    }
   },
   "outputs": [],
   "source": [
    "# None can be assigned to a variable\n",
    "a = None\n",
    "\n",
    "# And then used in an if statement\n",
    "if a is None:\n",
    "    print(\"Hello\")\n",
    "    \n",
    "# It is frequent to use it in functions with optional\n",
    "# parameters\n",
    "def add_and_maybe_multiply(a, b, c=None):\n",
    "    result = a + b\n",
    "    \n",
    "    # The following line is equivalent to\n",
    "    # 'if c is not None'\n",
    "    if c:\n",
    "        result = result * c\n",
    "        \n",
    "    return result\n",
    "        \n",
    "add_and_maybe_multiply(2, 3)\n",
    "\n",
    "add_and_maybe_multiply(2, 3, 10)"
   ]
  },
  {
   "cell_type": "markdown",
   "metadata": {
    "slideshow": {
     "slide_type": "slide"
    }
   },
   "source": [
    "<h1 class=\"center_text\">Built-in data structures</h1>"
   ]
  },
  {
   "cell_type": "markdown",
   "metadata": {
    "slideshow": {
     "slide_type": "slide"
    }
   },
   "source": [
    "## tuple\n",
    "\n",
    "A tuple is a fixed-length, *immutable* sequence of objects.\n",
    "\n",
    "Fixed-length means that we can't add/remove objects."
   ]
  },
  {
   "cell_type": "code",
   "execution_count": null,
   "metadata": {
    "slideshow": {
     "slide_type": "-"
    }
   },
   "outputs": [],
   "source": [
    "# One way to create a tuple\n",
    "tup = 1, 2, 3\n",
    "f\"tup is: {tup}\"\n",
    "\n",
    "# Another way: with parenthesis\n",
    "tup = (4, 5, 6)\n",
    "f\"tup is: {tup}\"\n",
    "\n",
    "# Another way: passing an iterator or a sequence\n",
    "## and invoking tuple()\n",
    "tup = tuple([7, 8, 9])\n",
    "f\"tup is: {tup}\"\n",
    "\n",
    "# Unpacking\n",
    "a, b, c = tup\n",
    "f\"a: {a} b: {b} c: {c}\"\n",
    "\n",
    "# Length\n",
    "tup = 10, 20, \"hello\", (1, 2)\n",
    "f\"Length: {len(tup)}\"\n",
    "\n",
    "# Cool trick: swapping with tuples\n",
    "x, y = 10, 20\n",
    "x, y = y, x\n",
    "f\"x: {x} y: {y}\""
   ]
  },
  {
   "cell_type": "markdown",
   "metadata": {
    "slideshow": {
     "slide_type": "slide"
    }
   },
   "source": [
    "## Common tuple operations"
   ]
  },
  {
   "cell_type": "code",
   "execution_count": null,
   "metadata": {
    "slideshow": {
     "slide_type": "-"
    }
   },
   "outputs": [],
   "source": [
    "# Accessing\n",
    "tup = 10, [20, 30], \"table\"\n",
    "\n",
    "f\"First element: {tup[0]} Last element: {tup[-1]}\"\n",
    "\n",
    "# Tuple items cannot be modified (re-assigned a new value)\n",
    "try:\n",
    "    tup[1] = 123\n",
    "\n",
    "except TypeError:\n",
    "    print(\"Exception was raised, items cannot be modified\")\n",
    "\n",
    "# But if the item is mutable, then it can be modified\n",
    "# in-place\n",
    "tup[1].append(40)\n",
    "f\"tup is: {tup}\"\n",
    "\n",
    "# Count\n",
    "tup = 10, 20, 20, 30, 30, 30, \"hello\", \"hello\"\n",
    "f\"Count '30': {tup.count(30)}\"\n",
    "\"Count 'hello': {tup.count('hello')}\"\n",
    "\n",
    "# Logical operations\n",
    "f\"Check 'hello' in tup: {'hello' in tup}\""
   ]
  },
  {
   "cell_type": "markdown",
   "metadata": {
    "slideshow": {
     "slide_type": "slide"
    }
   },
   "source": [
    "## list\n",
    "\n",
    "A list is a variable-length, *mutable* sequence of objects.\n",
    "\n",
    "Variable-length means that we can add/remove objects."
   ]
  },
  {
   "cell_type": "code",
   "execution_count": null,
   "metadata": {
    "slideshow": {
     "slide_type": "-"
    }
   },
   "outputs": [],
   "source": [
    "# One way to create a list\n",
    "seq = [1, 2, 3]\n",
    "f\"bar is: {seq}\"\n",
    "\n",
    "\n",
    "# Another way: invoking list()\n",
    "seq = list((4, 5, 6))\n",
    "f\"seq is: {seq}\"\n",
    "\n",
    "# Length\n",
    "seq = [10, 20, \"hello\", (1, 2)]\n",
    "f\"Length: {len(seq)}\""
   ]
  },
  {
   "cell_type": "markdown",
   "metadata": {
    "slideshow": {
     "slide_type": "slide"
    }
   },
   "source": [
    "## Common list operations"
   ]
  },
  {
   "cell_type": "code",
   "execution_count": null,
   "metadata": {
    "slideshow": {
     "slide_type": "-"
    }
   },
   "outputs": [],
   "source": [
    "# Accessing\n",
    "seq = [10, [20, 30], \"thirty\"]\n",
    "\n",
    "f\"First element: {seq[0]} Last element: {seq[-1]}\"\n",
    "\n",
    "# Adding\n",
    "seq.append(3.1415)\n",
    "seq.insert(1, \"hello\")\n",
    "f\"After adding, seq is: {seq}\"\n",
    "\n",
    "# Removing\n",
    "seq = [10, [20, 30], \"thirty\"]\n",
    "seq.pop(1)\n",
    "f\"After removing, bar is: {seq}\"\n",
    "\n",
    "# Modify\n",
    "seq = [10, [20, 30], \"thirty\"]\n",
    "seq[1] = \"twenty\"\n",
    "f\"After modifying, bar is: {seq}\"\n",
    "\n",
    "# Count and logical operations are like in tuples"
   ]
  },
  {
   "cell_type": "markdown",
   "metadata": {
    "slideshow": {
     "slide_type": "slide"
    }
   },
   "source": [
    "## Common list operations"
   ]
  },
  {
   "cell_type": "code",
   "execution_count": null,
   "metadata": {
    "slideshow": {
     "slide_type": "-"
    }
   },
   "outputs": [],
   "source": [
    "# Concatenating\n",
    "foo, bar = [10, 20], [30, 40]\n",
    "foo + bar\n",
    "\n",
    "# Appending\n",
    "mat = []\n",
    "mat = mat.append([10,20])\n",
    "mat\n",
    "\n",
    "# Sorting\n",
    "seq = [10, 20, 30, 40, 50]\n",
    "\n",
    "seq.sort()\n",
    "f\"After sorting: {seq}\"\n",
    "\n",
    "seq.sort(reverse=True)\n",
    "f\"After reverse sorting: {seq}\"\n",
    "\n",
    "# Slicing\n",
    "seq = [10, 20, 30, 40, 50]\n",
    "f\"First three objects: {seq[:3]}\"\n",
    "f\"Last three objects: {seq[-3:]}\"\n",
    "\n",
    "# Slicing by index (the last index is not included)\n",
    "f\"Indexes 2 to 4: {seq[2:4]}\""
   ]
  },
  {
   "cell_type": "markdown",
   "metadata": {
    "slideshow": {
     "slide_type": "slide"
    }
   },
   "source": [
    "## Exercise: list operations\n",
    "\n",
    "Given the list `[0, -1, 123, 122, 40]`, find the largest value."
   ]
  },
  {
   "cell_type": "code",
   "execution_count": null,
   "metadata": {
    "slideshow": {
     "slide_type": "fragment"
    }
   },
   "outputs": [],
   "source": [
    "seq = [0, -1, 123, 122, 40]\n",
    "\n",
    "seq.sort()\n",
    "\n",
    "f\"Largest value: {seq[-1]}\"\n",
    "\n",
    "# Note\n",
    "#\n",
    "# Python also includes the `max()` built-in function"
   ]
  },
  {
   "cell_type": "markdown",
   "metadata": {
    "slideshow": {
     "slide_type": "slide"
    }
   },
   "source": [
    "## dict\n",
    "\n",
    "Dictionaries are collections of *key-value pairs*."
   ]
  },
  {
   "cell_type": "code",
   "execution_count": null,
   "metadata": {
    "slideshow": {
     "slide_type": "-"
    }
   },
   "outputs": [],
   "source": [
    "# Create (keys must be unique)\n",
    "d1 = {\n",
    "    \"a\": \"hello world\",\n",
    "    \"b\": [1, 2]\n",
    "}\n",
    "d1\n",
    "\n",
    "# Keys can also be numbers\n",
    "d2 = {\n",
    "    10: \"ten\",\n",
    "    20.5: \"twenty\"\n",
    "}\n",
    "d2\n",
    "\n",
    "# Access by key\n",
    "f\"Value of key 'a' is: {d1['a']}\"\n",
    "\n",
    "# Add a new pair key-value\n",
    "d1[\"c\"] = \"new value\"\n",
    "f\"After adding: {d1}\"\n",
    "\n",
    "# Remove by key\n",
    "del d1[\"c\"]\n",
    "f\"After removing: {d1}\"\n",
    "\n",
    "# Get all keys and values (notice they are converted\n",
    "# to list)\n",
    "f\"Keys: {list(d1.keys())} Values: {list(d1.values())}\""
   ]
  },
  {
   "cell_type": "markdown",
   "metadata": {
    "slideshow": {
     "slide_type": "slide"
    }
   },
   "source": [
    "## set\n",
    "\n",
    "A set is an unordered collection of *unique* elements."
   ]
  },
  {
   "cell_type": "code",
   "execution_count": null,
   "metadata": {},
   "outputs": [],
   "source": [
    "# Create with curly braces\n",
    "col = {4, 5, 4, 5, 1, 2, \"hello\", \"hello\"}\n",
    "col\n",
    "\n",
    "# Create with set function\n",
    "set([4, 5, 4, 5, 1, 2, \"hello\", \"hello\"])\n",
    "\n",
    "# Set operations\n",
    "a = {2, 3, \"hello\", \"hello\", 1, 1, 2}\n",
    "b = {1, 2, \"hello\", \"world\"}\n",
    "\n",
    "# Union\n",
    "f\"Union: {a | b}\"\n",
    "\n",
    "# Intersection\n",
    "f\"Intersection: {a & b}\"\n",
    "\n",
    "# Difference\n",
    "f\"Difference (elements in 'a' that are not in 'b'): {a - b}\"\n",
    "\n",
    "# Subset\n",
    "f\"All elements in 'a' are contained in 'b': {a.issubset(b)}\""
   ]
  },
  {
   "cell_type": "markdown",
   "metadata": {
    "slideshow": {
     "slide_type": "slide"
    }
   },
   "source": [
    "<h1 class=\"center_text\">Built-in sequence functions</h1>"
   ]
  },
  {
   "cell_type": "markdown",
   "metadata": {
    "slideshow": {
     "slide_type": "slide"
    }
   },
   "source": [
    "## enumerate( )\n",
    "\n",
    "It is common, when iterating over a sequence, to want to keep track of the index of the current item.\n",
    "\n",
    "Python has a built-in function, `enumerate()`, that returns a *(index, value)* tuple:"
   ]
  },
  {
   "cell_type": "code",
   "execution_count": null,
   "metadata": {
    "slideshow": {
     "slide_type": "-"
    }
   },
   "outputs": [],
   "source": [
    "pairs = {}\n",
    "\n",
    "for i, value, in enumerate([\"how\", \"are\", \"you\", \"doing\"]):\n",
    "    pairs[i] = value\n",
    "    \n",
    "pairs"
   ]
  },
  {
   "cell_type": "markdown",
   "metadata": {
    "slideshow": {
     "slide_type": "slide"
    }
   },
   "source": [
    "## sorted( )\n",
    "\n",
    "`sorted()` returns a new sorted list from the input sequence:"
   ]
  },
  {
   "cell_type": "code",
   "execution_count": null,
   "metadata": {
    "slideshow": {
     "slide_type": "-"
    }
   },
   "outputs": [],
   "source": [
    "seq = [\"how\", \"are\", \"you\", \"doing\"]\n",
    "\n",
    "seq_sorted = sorted(seq)\n",
    "\n",
    "f\"Sequence sorted: {seq_sorted}\"\n",
    "\n",
    "seq_reverse = sorted(seq, reverse=True)\n",
    "\n",
    "f\"Sequence reverse sorted: {seq_reverse}\""
   ]
  },
  {
   "cell_type": "markdown",
   "metadata": {
    "slideshow": {
     "slide_type": "slide"
    }
   },
   "source": [
    "## len( ) */* min( ) */* max( )\n",
    "\n",
    "`len()`returns the length of a sequence.\n",
    "\n",
    "`min()` and `max()` return the minimum and the maximum value."
   ]
  },
  {
   "cell_type": "code",
   "execution_count": null,
   "metadata": {
    "slideshow": {
     "slide_type": "-"
    }
   },
   "outputs": [],
   "source": [
    "seq = [1, 2, 123, 14, 54, -1, 0]\n",
    "\n",
    "f\"Length: {len(seq)}\"\n",
    "\n",
    "f\"Minimum: {min(seq)}\"\n",
    "\n",
    "f\"Maximum: {max(seq)}\""
   ]
  },
  {
   "cell_type": "markdown",
   "metadata": {
    "slideshow": {
     "slide_type": "slide"
    }
   },
   "source": [
    "## any( ) */* all( )\n",
    "\n",
    "`any`returns `True` if at least one element in the sequence is `True`. Otherwise it returns `False`.\n",
    "\n",
    "`all` returns `True` if all elements in the sequence are `True`. Otherwise it returns `False`."
   ]
  },
  {
   "cell_type": "code",
   "execution_count": null,
   "metadata": {},
   "outputs": [],
   "source": [
    "seq = [1, 2, 123, 14, 54, 0, 10]\n",
    "\n",
    "# Boolean sequence to see which values in seq\n",
    "# are greater than or equal to 0\n",
    "bool_seq = [x >= 0 for x in seq]\n",
    "bool_seq\n",
    "\n",
    "f\"Any: {any(bool_seq)}\"\n",
    "f\"All: {all(bool_seq)}\"\n",
    "\n",
    "# Boolean sequence to see if any number is 0\n",
    "bool_seq= [x == 0 for x in seq]\n",
    "bool_seq\n",
    "\n",
    "f\"Any: {any(bool_seq)}\"\n",
    "f\"All: {all(bool_seq)}\""
   ]
  },
  {
   "cell_type": "markdown",
   "metadata": {
    "slideshow": {
     "slide_type": "slide"
    }
   },
   "source": [
    "<h1 class=\"center_text\">Operators</h1>"
   ]
  },
  {
   "cell_type": "markdown",
   "metadata": {
    "slideshow": {
     "slide_type": "slide"
    }
   },
   "source": [
    "## Arithmetic operators"
   ]
  },
  {
   "cell_type": "code",
   "execution_count": null,
   "metadata": {
    "slideshow": {
     "slide_type": "-"
    }
   },
   "outputs": [],
   "source": [
    "a, b = 10, 3\n",
    "\n",
    "# Addition,subtraction, multiplication\n",
    "a + b\n",
    "\n",
    "# Subtraction\n",
    "a - b\n",
    "\n",
    "# Multiplication\n",
    "a * b\n",
    "\n",
    "# Division\n",
    "a / b\n",
    "\n",
    "# Quotient (floor division) and modulus\n",
    "a // b\n",
    "a % b\n",
    "\n",
    "# Exponentiation\n",
    "a ** b\n"
   ]
  },
  {
   "cell_type": "markdown",
   "metadata": {
    "slideshow": {
     "slide_type": "slide"
    }
   },
   "source": [
    "## Assignment operators"
   ]
  },
  {
   "cell_type": "code",
   "execution_count": null,
   "metadata": {
    "slideshow": {
     "slide_type": "-"
    }
   },
   "outputs": [],
   "source": [
    "# Equal assignment\n",
    "x = 10\n",
    "\n",
    "# x = x + 3\n",
    "x += 3\n",
    "\n",
    "# x = x - 3\n",
    "x -= 3\n",
    "\n",
    "# x = x * 3\n",
    "x *= 3\n",
    "\n",
    "# x = x / 3\n",
    "x /= 3\n",
    "\n",
    "# x = x // 3\n",
    "x //= 3\n",
    "\n",
    "# x = x % 3\n",
    "x %= 3\n",
    "\n",
    "# x = x ** 3\n",
    "x **= 3"
   ]
  },
  {
   "cell_type": "markdown",
   "metadata": {
    "slideshow": {
     "slide_type": "slide"
    }
   },
   "source": [
    "## Comparison operators"
   ]
  },
  {
   "cell_type": "code",
   "execution_count": null,
   "metadata": {
    "slideshow": {
     "slide_type": "-"
    }
   },
   "outputs": [],
   "source": [
    "a, b = 10, 3\n",
    "\n",
    "# Equal to\n",
    "a == b\n",
    "\n",
    "# Not equal to\n",
    "a != b\n",
    "\n",
    "# Greater than\n",
    "a > b\n",
    "\n",
    "# Smaller than\n",
    "a < b\n",
    "\n",
    "# Greater than or equal to\n",
    "a >= b\n",
    "\n",
    "# Smaller than or equal to\n",
    "a <= b\n"
   ]
  },
  {
   "cell_type": "markdown",
   "metadata": {
    "slideshow": {
     "slide_type": "slide"
    }
   },
   "source": [
    "## Logical operators"
   ]
  },
  {
   "cell_type": "code",
   "execution_count": null,
   "metadata": {
    "slideshow": {
     "slide_type": "-"
    }
   },
   "outputs": [],
   "source": [
    "a, b = 10, 3\n",
    "\n",
    "# and\n",
    "(a != b) and (a > b)\n",
    "\n",
    "# or\n",
    "(a == b) or (a > 0)\n",
    "\n",
    "# not\n",
    "not (a == b)"
   ]
  },
  {
   "cell_type": "markdown",
   "metadata": {
    "slideshow": {
     "slide_type": "slide"
    }
   },
   "source": [
    "## Membership operators"
   ]
  },
  {
   "cell_type": "code",
   "execution_count": null,
   "metadata": {
    "slideshow": {
     "slide_type": "-"
    }
   },
   "outputs": [],
   "source": [
    "# in\n",
    "\"orange\" in [\"blue\", \"yellow\", \"orange\", \"white\"]\n",
    "\n",
    "# not in\n",
    "\"orange\" not in [10, 20, 30]\n",
    "\n"
   ]
  },
  {
   "cell_type": "markdown",
   "metadata": {
    "slideshow": {
     "slide_type": "slide"
    }
   },
   "source": [
    "<h1 class=\"center_text\">Control flow</h1>"
   ]
  },
  {
   "cell_type": "markdown",
   "metadata": {
    "slideshow": {
     "slide_type": "slide"
    }
   },
   "source": [
    "## The if statement\n",
    "\n",
    "Defines some conditions. If any of the conditions is `True`, then the code that follows is executed."
   ]
  },
  {
   "cell_type": "code",
   "execution_count": null,
   "metadata": {
    "slideshow": {
     "slide_type": "-"
    }
   },
   "outputs": [],
   "source": [
    "x = 10\n",
    "\n",
    "if x < 0:\n",
    "    print(\"Negative\")\n",
    "    \n",
    "elif x == 0:\n",
    "    print(\"Zero\")\n",
    "    \n",
    "elif x > 0:\n",
    "    print(\"Positive\")\n",
    "    \n",
    "elif x == 10:\n",
    "    # The following line should never be executed\n",
    "    print(\"Ten\")\n",
    "\n",
    "else:\n",
    "    print(\"Unexpected\")\n",
    "    \n",
    "\n",
    "# Multiple conditions\n",
    "a, b, c, d = 1, 2, 3, 4\n",
    "\n",
    "if (a < b) and (c < d):\n",
    "    print('Condition met')"
   ]
  },
  {
   "cell_type": "markdown",
   "metadata": {
    "slideshow": {
     "slide_type": "slide"
    }
   },
   "source": [
    "## for loops\n",
    "\n",
    "`for` loops are for iterating over an iterable object."
   ]
  },
  {
   "cell_type": "code",
   "execution_count": null,
   "metadata": {
    "slideshow": {
     "slide_type": "-"
    }
   },
   "outputs": [],
   "source": [
    "# Sequence of numbers\n",
    "res = 0\n",
    "for x in [1, 2, 3, 4]:\n",
    "    res += x\n",
    "    \n",
    "f\"After looping, x: {res}\"\n",
    "\n",
    "# Sequence of strings\n",
    "res = \"\"\n",
    "for x in [\"how\", \"are\", \"you\"]:\n",
    "    res += x\n",
    "    \n",
    "f\"After looping, x: {res}\"\n",
    "    \n",
    "# Range\n",
    "res = 0\n",
    "for x in range(0, 10, 3):\n",
    "    res += x\n",
    "    \n",
    "f\"After looping, x: {res}\""
   ]
  },
  {
   "cell_type": "markdown",
   "metadata": {
    "slideshow": {
     "slide_type": "slide"
    }
   },
   "source": [
    "## while loops\n",
    "\n",
    "A `while` loop specifies a condition and a block of code that is to be execute until the condition evaluates to `False`."
   ]
  },
  {
   "cell_type": "code",
   "execution_count": null,
   "metadata": {},
   "outputs": [],
   "source": [
    "from random import randint\n",
    "\n",
    "\n",
    "x = randint(0, 10)\n",
    "while x < 10:\n",
    "    print(f\"Random x: {x}\")\n",
    "    \n",
    "    x = randint(0, 10)\n",
    "    \n",
    "f\"Final x: {x}\""
   ]
  },
  {
   "cell_type": "markdown",
   "metadata": {
    "slideshow": {
     "slide_type": "slide"
    }
   },
   "source": [
    "## Exercise: while loops\n",
    "\n",
    "How would you improve the following code?\n",
    "\n",
    "```python\n",
    "x = randint(0, 10)\n",
    "while x < 10:\n",
    "    print(f\"Random x: {x}\")\n",
    "    \n",
    "    x = randint(0, 5)\n",
    "```"
   ]
  },
  {
   "cell_type": "code",
   "execution_count": null,
   "metadata": {
    "slideshow": {
     "slide_type": "fragment"
    }
   },
   "outputs": [],
   "source": [
    "from random import randint\n",
    "\n",
    "MAX = 10\n",
    "counter = 0\n",
    "\n",
    "x = randint(0, 10)\n",
    "while (x < 10) and (counter < MAX):\n",
    "    counter += 1\n",
    "    print(f\"Random x: {x}\")\n",
    "    \n",
    "    x = randint(0, 10)\n",
    "    \n",
    "f\"Final x: {x} counter: {counter}\""
   ]
  },
  {
   "cell_type": "markdown",
   "metadata": {
    "slideshow": {
     "slide_type": "slide"
    }
   },
   "source": [
    "## pass statement\n",
    "\n",
    "`pass` is the *no-operation* statement in Python."
   ]
  },
  {
   "cell_type": "code",
   "execution_count": null,
   "metadata": {
    "slideshow": {
     "slide_type": "-"
    }
   },
   "outputs": [],
   "source": [
    "for x in range(10):\n",
    "    if x in [2, 4, 6]:\n",
    "        pass\n",
    "    \n",
    "    else:\n",
    "        x *= 10\n",
    "        \n",
    "    print(x)"
   ]
  },
  {
   "cell_type": "markdown",
   "metadata": {
    "slideshow": {
     "slide_type": "slide"
    }
   },
   "source": [
    "## break and continue statements\n",
    "\n",
    "`break` terminates the current loop.\n",
    "\n",
    "`continue` returns the control to the beginning of the loop."
   ]
  },
  {
   "cell_type": "code",
   "execution_count": null,
   "metadata": {
    "slideshow": {
     "slide_type": "-"
    }
   },
   "outputs": [],
   "source": [
    "# Break example\n",
    "for x in range(10):\n",
    "    if x > 3:\n",
    "        break\n",
    "        \n",
    "    f\"Break example, x: {x}\"\n",
    "\n",
    "# Continue example\n",
    "for x in range(10):\n",
    "    if x in [2, 3, 4]:\n",
    "        continue\n",
    "        \n",
    "    f\"Continue example, x: {x}\""
   ]
  },
  {
   "cell_type": "markdown",
   "metadata": {
    "slideshow": {
     "slide_type": "slide"
    }
   },
   "source": [
    "<h1 class=\"center_text\">Functions</h1>"
   ]
  },
  {
   "cell_type": "markdown",
   "metadata": {
    "slideshow": {
     "slide_type": "slide"
    }
   },
   "source": [
    "## What is function?\n",
    "\n",
    "Functions are the primary and most important method of code organization and reuse in Python.\n",
    "\n",
    "As a rule of thumb: if you anticipate needing to repeat the same or very similar code *more than once*, consider writing a reusable function."
   ]
  },
  {
   "cell_type": "markdown",
   "metadata": {
    "slideshow": {
     "slide_type": "slide"
    }
   },
   "source": [
    "## Function declaration and return\n",
    "\n",
    "Functions are declared with the `def` keyword, and returned from with the `return` keyword.\n",
    "\n",
    "`return` may not be specified. In this case, the system interprets that function returns `None`."
   ]
  },
  {
   "cell_type": "code",
   "execution_count": null,
   "metadata": {},
   "outputs": [],
   "source": [
    "def add_numbers(x, y):\n",
    "    return x + y\n",
    "\n",
    "def say_hello():\n",
    "    print(\"hello\")\n",
    "\n",
    "res = add_numbers(2, 4.5)\n",
    "\n",
    "f\"add_numbers returned: {res}\"\n",
    "\n",
    "res = say_hello()\n",
    "\n",
    "f\"say_hello returned: {res}\""
   ]
  },
  {
   "cell_type": "markdown",
   "metadata": {
    "slideshow": {
     "slide_type": "slide"
    }
   },
   "source": [
    "## Function arguments\n",
    "\n",
    "Objects provided to a function are called arguments.\n",
    "\n",
    "\n",
    "There are *positional* and *keyword* arguments."
   ]
  },
  {
   "cell_type": "code",
   "execution_count": null,
   "metadata": {},
   "outputs": [],
   "source": [
    "# x and y are positional arguments\n",
    "# z is a keyword argument\n",
    "def add_numbers(x, y, z=None):\n",
    "    \n",
    "    res = x + y\n",
    "    \n",
    "    if z:\n",
    "        res += z\n",
    "        \n",
    "    return res\n",
    "\n",
    "\n",
    "# Correct ways to invoke the function\n",
    "add_numbers(10, 20)\n",
    "add_numbers(10, 20, 30)\n",
    "add_numbers(10, 20, z=30)\n",
    "add_numbers(z=30, x=10, y=20)\n"
   ]
  },
  {
   "cell_type": "markdown",
   "metadata": {
    "slideshow": {
     "slide_type": "slide"
    }
   },
   "source": [
    "## Exercise: function arguments\n",
    "\n",
    "Is the following code correct?\n",
    "\n",
    "```python\n",
    "def add_numbers(x, y, z=None):\n",
    "    \n",
    "    res = x + y\n",
    "    \n",
    "    if z:\n",
    "        res += z\n",
    "        \n",
    "    return res\n",
    "\n",
    "add_numbers(z=30, 10, 20)\n",
    "```"
   ]
  },
  {
   "cell_type": "markdown",
   "metadata": {
    "slideshow": {
     "slide_type": "slide"
    }
   },
   "source": [
    "## `*args` and `**kwargs`\n",
    "\n",
    "Some functions are declared with `*args` and `**kwargs`. (what matters is not `args` or `kwargs`, but `*`and `**`).\n",
    "\n",
    "\n",
    "`*args` means variable number of positional arguments.\n",
    "\n",
    "`**kwargs` means variable number of keyword arguments."
   ]
  },
  {
   "cell_type": "code",
   "execution_count": null,
   "metadata": {},
   "outputs": [],
   "source": [
    "def add(*args):\n",
    "    res = 0\n",
    "    \n",
    "    for x in args:\n",
    "        res += x\n",
    "        \n",
    "    return res\n",
    "\n",
    "f\"Adding positional arguments: {add(1, 2, 3, 4, 5)}\"\n",
    "\n",
    "\n",
    "def add(**kwargs):\n",
    "    res = 0\n",
    "    \n",
    "    for x in kwargs.values():\n",
    "        res += x\n",
    "        \n",
    "    return res\n",
    "\n",
    "f\"Adding keyword arguments: {add(x=1, y=2, z=3)}\"\n"
   ]
  },
  {
   "cell_type": "markdown",
   "metadata": {
    "slideshow": {
     "slide_type": "slide"
    }
   },
   "source": [
    "## Local and global variables"
   ]
  },
  {
   "cell_type": "code",
   "execution_count": null,
   "metadata": {
    "slideshow": {
     "slide_type": "-"
    }
   },
   "outputs": [],
   "source": [
    "a = 0\n",
    "\n",
    "def func_1():\n",
    "    a = 35\n",
    "    print(f\"a: {a}\")\n",
    "\n",
    "func_1()\n",
    "\n",
    "f\"After calling func_1, a: {a}\"\n",
    "\n",
    "def func_2():\n",
    "    global a\n",
    "    \n",
    "    print(f\"a: {a}\")\n",
    "\n",
    "    a = 35\n",
    "    print(f\"a: {a}\")\n",
    "    \n",
    "func_2()\n",
    "\n",
    "f\"After calling func_2, a: {a}\""
   ]
  },
  {
   "cell_type": "markdown",
   "metadata": {
    "slideshow": {
     "slide_type": "slide"
    }
   },
   "source": [
    "## Returning multiple values\n",
    "\n",
    "A function can return multiple values as a tuple."
   ]
  },
  {
   "cell_type": "code",
   "execution_count": null,
   "metadata": {},
   "outputs": [],
   "source": [
    "def func():\n",
    "    val_1 = 10\n",
    "    val_2 = 20\n",
    "    val_3 = 30\n",
    "    \n",
    "    return val_1, val_2, val_3\n",
    "\n",
    "a, b, c = func()\n",
    "\n",
    "f\"a: {a} b: {b} c: {c}\"\n",
    "\n",
    "# If any of the values is not going to be used,\n",
    "# it is recommended to use '_'\n",
    "\n",
    "a, _, c = func()\n",
    "\n",
    "f\"a: {a} c: {c}\"\n",
    "\n",
    "# Note\n",
    "#\n",
    "# Returning 1, 2, 3 or 4 values is OK\n",
    "# Returning more than 4 values is a bad approach."
   ]
  },
  {
   "cell_type": "markdown",
   "metadata": {
    "slideshow": {
     "slide_type": "slide"
    }
   },
   "source": [
    "<h1 class=\"center_text\">Exceptions</h1>"
   ]
  },
  {
   "cell_type": "markdown",
   "metadata": {
    "slideshow": {
     "slide_type": "slide"
    }
   },
   "source": [
    "## What are exceptions?\n",
    "\n",
    "Exceptions are *errors during execution*, which must be handled by the application.\n",
    "\n",
    "Python has an list of built-in exceptions (see [link](https://docs.python.org/3/library/exceptions.html#bltin-exceptions))."
   ]
  },
  {
   "cell_type": "markdown",
   "metadata": {
    "slideshow": {
     "slide_type": "slide"
    }
   },
   "source": [
    "## Handling exceptions\n",
    "\n",
    "Excepts are caught with the `try...except` statements. "
   ]
  },
  {
   "cell_type": "code",
   "execution_count": null,
   "metadata": {
    "slideshow": {
     "slide_type": "-"
    }
   },
   "outputs": [],
   "source": [
    "try:\n",
    "    3 / 0\n",
    "    \n",
    "except ZeroDivisionError as exc:\n",
    "    print(f\"Error: {str(exc)}\")"
   ]
  },
  {
   "cell_type": "markdown",
   "metadata": {
    "slideshow": {
     "slide_type": "slide"
    }
   },
   "source": [
    "## Handling exceptions\n",
    "\n",
    "If a block of code raises multiple exceptions:"
   ]
  },
  {
   "cell_type": "code",
   "execution_count": null,
   "metadata": {
    "slideshow": {
     "slide_type": "-"
    }
   },
   "outputs": [],
   "source": [
    "def my_divide(a, b):\n",
    "    a = float(a)\n",
    "    b = float(b)\n",
    "    \n",
    "    return a / b\n",
    "\n",
    "try:    \n",
    "    # This should raise an exception\n",
    "    my_divide(\"hello\", 2)\n",
    "    \n",
    "except (ZeroDivisionError, ValueError) as exc:\n",
    "    print(f\"Error: {str(exc)}\")"
   ]
  },
  {
   "cell_type": "markdown",
   "metadata": {
    "slideshow": {
     "slide_type": "slide"
    }
   },
   "source": [
    "## Where in the code should I catch exceptions?\n",
    "\n",
    "Functions and class methods should catch and handle exceptions only if they do something.\n",
    "\n",
    "Otherwise, exceptions may be *masked* which may lead to more complex problems.\n",
    "\n",
    "It is preferable to handle functions in the script level.\n"
   ]
  },
  {
   "cell_type": "markdown",
   "metadata": {
    "slideshow": {
     "slide_type": "slide"
    }
   },
   "source": [
    "## Exercise: masked exceptions\n",
    "\n",
    "What do you think about the following code?\n",
    "\n",
    "```python\n",
    "def my_divide(a, b):\n",
    "    \n",
    "    try:\n",
    "        res = a / b\n",
    "        \n",
    "    except ZeroDivisionError as exc:\n",
    "        res = -1\n",
    "        \n",
    "    return res\n",
    "```"
   ]
  },
  {
   "cell_type": "code",
   "execution_count": null,
   "metadata": {
    "slideshow": {
     "slide_type": "fragment"
    }
   },
   "outputs": [],
   "source": [
    "def my_divide(a, b):\n",
    "    \n",
    "    try:\n",
    "        res = a / b\n",
    "        \n",
    "    except ZeroDivisionError as exc:\n",
    "        res = -1\n",
    "        \n",
    "    return res\n",
    "\n",
    "\n",
    "# What??????\n",
    "f\"4 divided by 0 is: {my_divide(4, 0)}\""
   ]
  },
  {
   "cell_type": "markdown",
   "metadata": {
    "slideshow": {
     "slide_type": "slide"
    }
   },
   "source": [
    "<h1 class=\"center_text\">Naming conventions</h1>"
   ]
  },
  {
   "cell_type": "markdown",
   "metadata": {
    "slideshow": {
     "slide_type": "slide"
    }
   },
   "source": [
    "## Follow PEP8 style guide\n",
    "\n",
    "*Modules* follow snake_case style:\n",
    "\n",
    "    dummy_file.py\n",
    "\n",
    "*Functions* and class methods follow snake_case style:\n",
    "\n",
    "    dummy_function(a, b, c)\n",
    "\n",
    "*Variables* and *objects* follow snake-case style and should have more than 3 chars:\n",
    "\n",
    "    val, res, liability, scenario...\n",
    "\n",
    "*Constants* use uppercase, and words shall be separated with an underscore:\n",
    "\n",
    "    MAC_COUNT\n",
    "    \n",
    "*Class* names should follow CamelCase style:\n",
    "\n",
    "    DummyClass\n",
    "    \n",
    "    \n",
    "More info: [PEP 8](https://www.python.org/dev/peps/pep-0008/)."
   ]
  },
  {
   "cell_type": "markdown",
   "metadata": {
    "slideshow": {
     "slide_type": "slide"
    }
   },
   "source": [
    "## Underscores in Python\n",
    "\n",
    "Single leading underscore: `_var`\n",
    "\n",
    "* The variable/function/class shall not be used out of the scope where it is defined.\n",
    "\n",
    " \n",
    "Single Trailing Underscore: `var_`\n",
    "\n",
    "* It's only to avoid conflicts with reserved words (e.g. `dict_` and `dict`)\n",
    "\n",
    "\n",
    "Do not use any of:\n",
    "\n",
    "* Double leading underscore: `__var`\n",
    "* Double leading and trailing underscore: `__var__` (except for __init__.py files)\n"
   ]
  },
  {
   "cell_type": "markdown",
   "metadata": {
    "slideshow": {
     "slide_type": "slide"
    }
   },
   "source": [
    "<h1 class=\"center_text\">Interpreters</h1>"
   ]
  },
  {
   "cell_type": "markdown",
   "metadata": {
    "slideshow": {
     "slide_type": "slide"
    }
   },
   "source": [
    "## Different options to run Python\n",
    "\n",
    "Single module from the command line: \n",
    "\n",
    "    python -m dummy\n",
    "\n",
    "REPL:\n",
    "\n",
    "* From command line\n",
    "* Online [link](https://repl.it/languages/python3)\n",
    "    \n",
    "IPython:\n",
    "\n",
    "* From command line\n",
    "    \n",
    "Jupyter notebooks:\n",
    "\n",
    "* Local machine\n",
    "* Online [link](https://jupyter.org/try) and [link](https://colab.research.google.com)"
   ]
  },
  {
   "cell_type": "markdown",
   "metadata": {
    "slideshow": {
     "slide_type": "slide"
    }
   },
   "source": [
    "<h1 class=\"center_text\">NumPy</h1>"
   ]
  },
  {
   "cell_type": "markdown",
   "metadata": {
    "slideshow": {
     "slide_type": "slide"
    }
   },
   "source": [
    "\n",
    "## Introduction to NumPy\n",
    "\n",
    "NumPy is one of the most important packages for numerical computing in Python.\n",
    "\n",
    "It includes:\n",
    "\n",
    "* `ndarray`, an efficient multidimensional array for fast array-oriented arithmetic\n",
    "* Mathematical functions\n",
    "* Tools for reading/writing array data to disk\n",
    "* Linear algebra, random number generation and Fourier transform capabilities\n",
    "\n",
    "NumPy is... *efficiency*.\n",
    "\n",
    "NumPy by itself does not provide modeling or scientific functionality. However, packages providing these functionalities rely on NumPy (like pandas)."
   ]
  },
  {
   "cell_type": "markdown",
   "metadata": {
    "slideshow": {
     "slide_type": "slide"
    }
   },
   "source": [
    "## Create the `ndarray`"
   ]
  },
  {
   "cell_type": "code",
   "execution_count": null,
   "metadata": {
    "slideshow": {
     "slide_type": "-"
    }
   },
   "outputs": [],
   "source": [
    "import numpy as np\n",
    "\n",
    "# From a list\n",
    "arr = np.array([10, 20, 30])\n",
    "\n",
    "# Some info\n",
    "arr\n",
    "f\"Dim: {arr.ndim} Shape: {arr.shape} Type: {arr.dtype}\"\n",
    "\n",
    "# Multidimensional\n",
    "arr = np.array(\n",
    "    [[10, 20, 30],\n",
    "     [40.0, 50.0, 60.0]]\n",
    ")\n",
    "\n",
    "arr\n",
    "f\"Dim: {arr.ndim} Shape: {arr.shape} Type: {arr.dtype}\"\n",
    "\n",
    "# Multidimensional\n",
    "# Ex a 4x2 RGB image (4 rows, 2 cols, 3 dimensions per pixel)\n",
    "arr = np.array(\n",
    "    [[[10, 10, 10], [20, 20, 20]],\n",
    "     [[30, 30, 30], [40, 40, 40]],\n",
    "     [[50, 50, 50], [60, 60, 60]],\n",
    "     [[70, 70, 70], [80, 80, 80]]],\n",
    "    dtype=np.float64\n",
    ")\n",
    "\n",
    "arr\n",
    "f\"Dim: {arr.ndim} Shape: {arr.shape} Type: {arr.dtype}\""
   ]
  },
  {
   "cell_type": "markdown",
   "metadata": {
    "slideshow": {
     "slide_type": "slide"
    }
   },
   "source": [
    "# Creating `ndarrays`"
   ]
  },
  {
   "cell_type": "code",
   "execution_count": null,
   "metadata": {},
   "outputs": [],
   "source": [
    "# Array of zeros\n",
    "\"Zeros:\"\n",
    "np.zeros(5)\n",
    "\n",
    "np.zeros((3, 6))\n",
    "\n",
    "# Array of ones\n",
    "\"Ones:\"\n",
    "np.ones((3, 6))\n",
    "\n",
    "# Constant values\n",
    "\"Constant value\"\n",
    "np.full((3,6), fill_value=15.0)\n",
    "\n",
    "# Diagonal matrix\n",
    "\"Diagonal\"\n",
    "np.eye(4)"
   ]
  },
  {
   "cell_type": "markdown",
   "metadata": {
    "slideshow": {
     "slide_type": "slide"
    }
   },
   "source": [
    "## Type conversion"
   ]
  },
  {
   "cell_type": "code",
   "execution_count": null,
   "metadata": {
    "slideshow": {
     "slide_type": "-"
    }
   },
   "outputs": [],
   "source": [
    "# From int64 to float64\n",
    "arr = np.arange(5, dtype=np.int64)\n",
    "\n",
    "f\"After converting int64 to float64: {arr.astype(np.float64)}\"\n",
    "\n",
    "# From float64 to int64\n",
    "arr = np.arange(5, dtype=np.float64)\n",
    "\n",
    "f\"After converting float64 to int64: {arr.astype(np.int64)}\""
   ]
  },
  {
   "cell_type": "markdown",
   "metadata": {
    "slideshow": {
     "slide_type": "slide"
    }
   },
   "source": [
    "## Arithmetic with ndarrays\n",
    "\n",
    "Operations are element-wise:"
   ]
  },
  {
   "cell_type": "code",
   "execution_count": null,
   "metadata": {
    "slideshow": {
     "slide_type": "-"
    }
   },
   "outputs": [],
   "source": [
    "arr = np.array(\n",
    "    [[1.0, 2.0, 3.0],\n",
    "     [4.0, 5.0, 6.0]]\n",
    ")\n",
    "\n",
    "# Addition, subtraction\n",
    "arr + 1\n",
    "\n",
    "# Multiplication\n",
    "arr * arr\n",
    "\n",
    "# Division\n",
    "arr / 2\n",
    "\n",
    "1 / arr"
   ]
  },
  {
   "cell_type": "markdown",
   "metadata": {
    "slideshow": {
     "slide_type": "slide"
    }
   },
   "source": [
    "## Logic operations\n",
    "\n",
    "Operations are element-wise:"
   ]
  },
  {
   "cell_type": "code",
   "execution_count": null,
   "metadata": {
    "slideshow": {
     "slide_type": "-"
    }
   },
   "outputs": [],
   "source": [
    "arr1 = np.array(\n",
    "    [[1.0, 2.0, 3.0],\n",
    "     [4.0, 5.0, 6.0]]\n",
    ")\n",
    "\n",
    "arr2 = np.array(\n",
    "    [[1.0, 1.0, 1.0],\n",
    "     [5.0, 6.0, 4.0]]\n",
    ")\n",
    "\n",
    "arr1 >= arr2\n",
    "\n",
    "arr1 != arr2"
   ]
  },
  {
   "cell_type": "markdown",
   "metadata": {
    "slideshow": {
     "slide_type": "slide"
    }
   },
   "source": [
    "## Indexing"
   ]
  },
  {
   "cell_type": "code",
   "execution_count": null,
   "metadata": {
    "slideshow": {
     "slide_type": "-"
    }
   },
   "outputs": [],
   "source": [
    "arr = np.array(\n",
    "    [[[10.1, 10.2, 10.3], [20.1, 20.2, 20.3]],\n",
    "     [[30.1, 30.2, 30.3], [40.1, 40.2, 40.3]],\n",
    "     [[50.1, 50.2, 50.3], [60.1, 60.2, 60.3]],\n",
    "     [[70.1, 70.2, 70.3], [80.1, 80.2, 80.3]]],\n",
    "    dtype=np.float64\n",
    ")\n",
    "\n",
    "# One item\n",
    "# The following two expressions are equivalent\n",
    "arr[0, 1, 2]\n",
    "arr[0][1][2]"
   ]
  },
  {
   "cell_type": "markdown",
   "metadata": {
    "slideshow": {
     "slide_type": "slide"
    }
   },
   "source": [
    "## Slicing"
   ]
  },
  {
   "cell_type": "code",
   "execution_count": null,
   "metadata": {
    "slideshow": {
     "slide_type": "-"
    }
   },
   "outputs": [],
   "source": [
    "arr = np.array(\n",
    "    [[[10.1, 10.2, 10.3], [20.1, 20.2, 20.3]],\n",
    "     [[30.1, 30.2, 30.3], [40.1, 40.2, 40.3]],\n",
    "     [[50.1, 50.2, 50.3], [60.1, 60.2, 60.3]],\n",
    "     [[70.1, 70.2, 70.3], [80.1, 80.2, 80.3]]],\n",
    "    dtype=np.float64\n",
    ")\n",
    "\n",
    "# First row\n",
    "arr[0][:][:]\n",
    "arr[0]\n",
    "\n",
    "# First col\n",
    "arr[:, 1]\n",
    "\n",
    "# First \"pixel\"\n",
    "arr[0, 0]\n",
    "\n",
    "# Tip: copy()\n",
    "x = arr[0][:][:].copy()"
   ]
  },
  {
   "cell_type": "markdown",
   "metadata": {
    "slideshow": {
     "slide_type": "slide"
    }
   },
   "source": [
    "## Logical value selection"
   ]
  },
  {
   "cell_type": "code",
   "execution_count": null,
   "metadata": {
    "slideshow": {
     "slide_type": "-"
    }
   },
   "outputs": [],
   "source": [
    "arr = np.array(\n",
    "    [[[10.1, 10.2, 10.3], [20.1, 20.2, 20.3]],\n",
    "     [[30.1, 30.2, 30.3], [40.1, 40.2, 40.3]],\n",
    "     [[50.1, 50.2, 50.3], [60.1, 60.2, 60.3]],\n",
    "     [[70.1, 70.2, 70.3], [80.1, 80.2, 80.3]]],\n",
    "    dtype=np.float64\n",
    ")\n",
    "\n",
    "\n",
    "# Select values by logical expression\n",
    "\"First selection\"\n",
    "arr[(arr > 20.0) & (arr <= 40)]\n",
    "\n",
    "# For column 1\n",
    "\"Second selection\"\n",
    "sel = arr[:, 1]\n",
    "sel[sel < 50]"
   ]
  },
  {
   "cell_type": "markdown",
   "metadata": {
    "slideshow": {
     "slide_type": "slide"
    }
   },
   "source": [
    "## Reshaping"
   ]
  },
  {
   "cell_type": "code",
   "execution_count": null,
   "metadata": {
    "slideshow": {
     "slide_type": "-"
    }
   },
   "outputs": [],
   "source": [
    "arr = np.arange(24).reshape((6,4))\n",
    "arr\n",
    "\n",
    "arr.reshape((4,6))\n",
    "\n",
    "arr.reshape((3,8))"
   ]
  },
  {
   "cell_type": "markdown",
   "metadata": {
    "slideshow": {
     "slide_type": "slide"
    }
   },
   "source": [
    "## Transposing"
   ]
  },
  {
   "cell_type": "code",
   "execution_count": null,
   "metadata": {
    "slideshow": {
     "slide_type": "-"
    }
   },
   "outputs": [],
   "source": [
    "arr = np.arange(24).reshape((6,4))\n",
    "arr\n",
    "\n",
    "# First row\n",
    "f\"First row: {arr[0]}\"\n",
    "\n",
    "# First column\n",
    "f\"First column: {arr[:, 0]}\"\n",
    "\n",
    "arr = arr.T\n",
    "arr\n",
    "\n",
    "# First row\n",
    "f\"First row: {arr[0]}\"\n",
    "\n",
    "# First column\n",
    "f\"First column: {arr[:, 0]}\""
   ]
  },
  {
   "cell_type": "markdown",
   "metadata": {
    "slideshow": {
     "slide_type": "slide"
    }
   },
   "source": [
    "## Swapping"
   ]
  },
  {
   "cell_type": "code",
   "execution_count": null,
   "metadata": {
    "slideshow": {
     "slide_type": "-"
    }
   },
   "outputs": [],
   "source": [
    "arr = np.arange(24).reshape((3,4,2))\n",
    "arr\n",
    "\n",
    "f\"Dim: {arr.ndim} Shape: {arr.shape} Type: {arr.dtype}\"\n",
    "\n",
    "arr = arr.swapaxes(0, 2)\n",
    "arr\n",
    "\n",
    "f\"Dim: {arr.ndim} Shape: {arr.shape} Type: {arr.dtype}\""
   ]
  },
  {
   "cell_type": "markdown",
   "metadata": {
    "slideshow": {
     "slide_type": "slide"
    }
   },
   "source": [
    "## Exercise: slicing\n",
    "\n",
    "Given:\n",
    "\n",
    "```python\n",
    "arr = np.array(\n",
    "    [[[10.1, 10.2, 10.3], [20.1, 20.2, 20.3]],\n",
    "     [[30.1, 30.2, 30.3], [40.1, 40.2, 40.3]],\n",
    "     [[50.1, 50.2, 50.3], [60.1, 60.2, 60.3]],\n",
    "     [[70.1, 70.2, 70.3], [80.1, 80.2, 80.3]]],\n",
    "    dtype=np.float64\n",
    ")\n",
    "```\n",
    "\n",
    "* Loop through all values and print them\n",
    "* Get row with index 2\n",
    "* Get row with index 1\n",
    "* Get last \"pixel\"\n",
    "* From the first column get all values between 10 and 40\n",
    "* Swap rows 1 and 2"
   ]
  },
  {
   "cell_type": "markdown",
   "metadata": {
    "slideshow": {
     "slide_type": "slide"
    }
   },
   "source": [
    "<h1 class=\"center_text\">Questions?</h1>"
   ]
  },
  {
   "cell_type": "markdown",
   "metadata": {
    "slideshow": {
     "slide_type": "slide"
    }
   },
   "source": [
    "<h1 class=\"center_text\">Thank you!</h1>"
   ]
  }
 ],
 "metadata": {
  "celltoolbar": "Slideshow",
  "kernelspec": {
   "display_name": "Python 3",
   "language": "python",
   "name": "python3"
  },
  "language_info": {
   "codemirror_mode": {
    "name": "ipython",
    "version": 3
   },
   "file_extension": ".py",
   "mimetype": "text/x-python",
   "name": "python",
   "nbconvert_exporter": "python",
   "pygments_lexer": "ipython3",
   "version": "3.8.5"
  }
 },
 "nbformat": 4,
 "nbformat_minor": 4
}
