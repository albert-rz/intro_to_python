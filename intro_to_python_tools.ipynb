{
 "cells": [
  {
   "cell_type": "code",
   "execution_count": 3,
   "metadata": {
    "slideshow": {
     "slide_type": "notes"
    }
   },
   "outputs": [],
   "source": [
    "from IPython.core.interactiveshell import InteractiveShell\n",
    "InteractiveShell.ast_node_interactivity = \"all\""
   ]
  },
  {
   "cell_type": "markdown",
   "metadata": {
    "slideshow": {
     "slide_type": "slide"
    }
   },
   "source": [
    "\n",
    "# Introduction to Python *-* Tools\n",
    "\n",
    "---\n",
    "\n",
    "<br>\n",
    "EDAA\n",
    "\n",
    "Albert Ruiz"
   ]
  },
  {
   "cell_type": "markdown",
   "metadata": {
    "slideshow": {
     "slide_type": "slide"
    }
   },
   "source": [
    "## Agenda\n",
    "\n",
    "* VSCode\n",
    "    * Recommended extensions\n",
    "    * Create a VSCode workspace\n",
    "    * Select default terminal\n",
    "* Python virtual environments\n",
    "    * Python / Anaconda\n",
    "    * Managing environments    \n",
    "* Python projects basic scaffold\n",
    "* Python modules\n",
    "    * Importing\n",
    "    * Executing\n",
    "    * Debugging (in VSCode)\n",
    "    * Testing\n",
    "* Apidoc with Sphinx\n",
    "* Pylint and Flake8\n"
   ]
  },
  {
   "cell_type": "markdown",
   "metadata": {
    "slideshow": {
     "slide_type": "slide"
    }
   },
   "source": [
    "<h1 class=\"center_text\">VSCode</h1>"
   ]
  },
  {
   "cell_type": "markdown",
   "metadata": {
    "slideshow": {
     "slide_type": "slide"
    }
   },
   "source": [
    "## Recommended extensions\n",
    "\n",
    "* Microsoft's Python ([link](https://marketplace.visualstudio.com/items?itemName=ms-python.python))\n",
    "\n",
    "* Python Docstring Generator ([link](https://marketplace.visualstudio.com/items?itemName=njpwerner.autodocstring))\n",
    "\n",
    "* Markdown All in One ([link](https://marketplace.visualstudio.com/items?itemName=yzhang.markdown-all-in-one))\n",
    "\n",
    "* Table Formatter ([link](https://marketplace.visualstudio.com/items?itemName=shuworks.vscode-table-formatter))\n",
    "\n",
    "* Code Spell Checker ([link](https://marketplace.visualstudio.com/items?itemName=streetsidesoftware.code-spell-checker))\n",
    "\n",
    "* Draw.io Integration ([link](https://marketplace.visualstudio.com/items?itemName=hediet.vscode-drawio))"
   ]
  },
  {
   "cell_type": "markdown",
   "metadata": {
    "slideshow": {
     "slide_type": "slide"
    }
   },
   "source": [
    "## What are VSCode workspaces?\n",
    "\n",
    "A VSCode workspace is just a JSON file that may include:\n",
    "\n",
    "* The folder(s) of your project\n",
    "\n",
    "* Tools used (e.g. the path of the Python environment)\n",
    "\n",
    "* Some settings (e.g. the type of terminal to be used)\n",
    "\n",
    "With these files it is possible to easily switch from one project to another one, or to *start VSCode with a given setup*."
   ]
  },
  {
   "cell_type": "markdown",
   "metadata": {
    "slideshow": {
     "slide_type": "slide"
    }
   },
   "source": [
    "## Create a VSCode workspace\n",
    "\n",
    "Open VSCode and go to:\n",
    "\n",
    "```bash\n",
    "# Just in case, close the active workspace\n",
    "Menu > File > Close Workspace\n",
    "\n",
    "# Create the new one\n",
    "Menu > File > Save Workspace As...\n",
    "```\n",
    "\n",
    "The extension of the workspace is `.code-workspace`.\n",
    "\n",
    "You will see that the VSCode bottom line is now blue (instead of purple)."
   ]
  },
  {
   "cell_type": "markdown",
   "metadata": {
    "slideshow": {
     "slide_type": "slide"
    }
   },
   "source": [
    "## Add projects root folder\n",
    "\n",
    "Go to:\n",
    "\n",
    "```\n",
    "Menu > File > Add Folder to Workspace\n",
    "```"
   ]
  },
  {
   "cell_type": "markdown",
   "metadata": {
    "slideshow": {
     "slide_type": "slide"
    }
   },
   "source": [
    "## Select default shell (1/2)\n",
    "\n",
    "Open a terminal in VSCode:\n",
    "\n",
    "```\n",
    "Menu > Terminal > New Terminal\n",
    "```\n",
    "\n",
    "Once open, click on the drop-down menu, and click on the `Select Default Shell` option:\n",
    "\n",
    "![select_default_shell](img/select_default_shell.png)"
   ]
  },
  {
   "cell_type": "markdown",
   "metadata": {
    "slideshow": {
     "slide_type": "slide"
    }
   },
   "source": [
    "## Select default shell (2/2)\n",
    "\n",
    "Then select the new shell:\n",
    "\n",
    "![select_default_shell_options](img/select_default_shell_options.png)\n",
    "\n",
    "\n",
    "*Note* - \n",
    "For Windows machines, it is recommended to use Git Bash (it may not work with Anaconda virtual environments).\n"
   ]
  },
  {
   "cell_type": "markdown",
   "metadata": {
    "slideshow": {
     "slide_type": "slide"
    }
   },
   "source": [
    "<h1 class=\"center_text\">Python virtual environments</h1>"
   ]
  },
  {
   "cell_type": "markdown",
   "metadata": {
    "slideshow": {
     "slide_type": "slide"
    }
   },
   "source": [
    "## What is a Python virtual environment?\n",
    "\n",
    "Python applications will often use packages and modules that don’t come as part of the standard library. \n",
    "\n",
    "Applications will sometimes need a specific version of a library.\n",
    "\n",
    "Virtual environments are *self-contained* directory tree that contains:\n",
    "\n",
    "* A Python installation for a particular version of Python\n",
    "* A number of additional packages"
   ]
  },
  {
   "cell_type": "markdown",
   "metadata": {
    "slideshow": {
     "slide_type": "slide"
    }
   },
   "source": [
    "## Python */* Anaconda\n",
    "\n",
    "Anaconda ([link](https://www.anaconda.com/)) is another Python distribution (not the official one ([link](https://www.python.org/)).\n",
    "\n",
    "The default Anaconda installation includes:\n",
    "\n",
    "* The Python interpreter\n",
    "* Several packages for scientific computing (data science, machine learning, ...)\n",
    "\n",
    "Anaconda aims to simplify package management deployment.\n",
    "\n",
    "Some Python packages depend on pre-compiled libraries (.so, .dll)\n",
    "\n",
    "* The official Python distro dos not handle those libraries (which must be installed by the user)\n",
    "* Anaconda does handle the dependencies"
   ]
  },
  {
   "cell_type": "markdown",
   "metadata": {
    "slideshow": {
     "slide_type": "slide"
    }
   },
   "source": [
    "## Python environments */* Anaconda environments\n",
    "\n",
    "#### *Python*\n",
    "\n",
    "Python official distro has more than 250.000 packages in Pypi ([link](https://pypi.org/)).\n",
    "\n",
    "In Pypi you may fin almost all package versions.\n",
    "\n",
    "Environments are created with `venv`, packages are installed with `pip` and may be defined in a file: `requirements.txt`.\n",
    "\n",
    "#### *Anaconda*\n",
    "\n",
    "Anaconda's official channel has 652 packages for Windows ([link](https://docs.anaconda.com/anaconda/packages/py3.8_win-64/)) and 701 for Linux. The Conda-Forge channel has more than 11.000 packages ([link](https://conda-forge.org/feedstocks/)).\n",
    "\n",
    "Only some package versions are available.\n",
    "\n",
    "`conda` is used to both create environments and install packages. Packages may be defined in a file: `environment.yml`."
   ]
  },
  {
   "cell_type": "markdown",
   "metadata": {
    "slideshow": {
     "slide_type": "slide"
    }
   },
   "source": [
    "## Some initial checks (1/2)\n",
    "\n",
    "#### *Check versions*\n",
    "\n",
    "```bash\n",
    "python --version\n",
    "python3 --version\n",
    "\n",
    "pip --version\n",
    "pip3 --version\n",
    "\n",
    "conda --version\n",
    "```"
   ]
  },
  {
   "cell_type": "markdown",
   "metadata": {
    "slideshow": {
     "slide_type": "slide"
    }
   },
   "source": [
    "## Some initial checks (2/2)\n",
    "\n",
    "#### *Locate*\n",
    "\n",
    "```bash\n",
    "# Windows (cmd shell)\n",
    "where python3\n",
    "where pip3\n",
    "where conda\n",
    "\n",
    "# Linux (or Windows + Git Bash shell)\n",
    "which python3\n",
    "which pip3\n",
    "which conda\n",
    "```"
   ]
  },
  {
   "cell_type": "markdown",
   "metadata": {
    "slideshow": {
     "slide_type": "slide"
    }
   },
   "source": [
    "## Managing Python virtual environments (1/2)\n",
    "\n",
    "#### *Create*\n",
    "\n",
    "```bash\n",
    "# The environment will be called .venv but could have any other name\n",
    "\n",
    "# In some machines (depending on what is installed) python command\n",
    "# is for Python 2.7. On some others it may be for Python 3\n",
    "python -m venv .venv\n",
    "\n",
    "# If you want to be sure of the Python version:\n",
    "python3 -m venv .venv\n",
    "python3.8 -m venv .venv\n",
    "```\n",
    "\n",
    "#### *Activate*\n",
    "\n",
    "```bash\n",
    "# Windows\n",
    "source .venv/Scripts/activate\n",
    "\n",
    "# Linux\n",
    "source .venv/bin/activate\n",
    "```"
   ]
  },
  {
   "cell_type": "markdown",
   "metadata": {
    "slideshow": {
     "slide_type": "slide"
    }
   },
   "source": [
    "## Managing Python virtual environments (2/2)\n",
    "\n",
    "\n",
    "#### *Installing packages*\n",
    "\n",
    "```bash\n",
    "# (after having activated the environment)\n",
    "\n",
    "# Single package (example: pandas)\n",
    "pip install pandas\n",
    "\n",
    "# Packages defined in a file: requirements.txt\n",
    "pip install -r requirements.txt\n",
    "```\n",
    "\n",
    "#### *Deactivate*\n",
    "\n",
    "```bash\n",
    "deactivate\n",
    "```\n",
    "\n",
    "#### *Remove*\n",
    "```bash\n",
    "# (after having deactivated the environment)\n",
    "rm -rf .venv\n",
    "```"
   ]
  },
  {
   "cell_type": "markdown",
   "metadata": {
    "slideshow": {
     "slide_type": "slide"
    }
   },
   "source": [
    "## The requirements.txt file\n",
    "\n",
    "Packages should include the release version, and should be alphabetically ordered:\n",
    "\n",
    "```\n",
    "flake8==3.8.4\n",
    "jupyterlab==2.2.9\n",
    "pandas==1.1.4\n",
    "pylint==2.6.0\n",
    "pytest==6.1.2\n",
    "pytest-cov==2.10.1\n",
    "xlrd==1.2.0\n",
    "```"
   ]
  },
  {
   "cell_type": "markdown",
   "metadata": {
    "slideshow": {
     "slide_type": "slide"
    }
   },
   "source": [
    "## Managing Anaconda environments (1/2)\n",
    "\n",
    "#### *Create*\n",
    "\n",
    "```bash\n",
    "# Create an environment called myenv, whose Python version is 3.6\n",
    "conda create --n myenv python=3.6\n",
    "```\n",
    "\n",
    "#### *Activate*\n",
    "\n",
    "```bash\n",
    "conda activate myenv\n",
    "```\n",
    "\n",
    "*Note* - Conda environments cannot be activated in Git Bash. You should consider using Windows CMD instead of Git Bash."
   ]
  },
  {
   "cell_type": "markdown",
   "metadata": {
    "slideshow": {
     "slide_type": "slide"
    }
   },
   "source": [
    "## Managing Python virtual environments (2/2)\n",
    "\n",
    "\n",
    "#### *Installing packages*\n",
    "\n",
    "```bash\n",
    "# (after having activated the environment)\n",
    "\n",
    "# Single package (example: pandas)\n",
    "conda install pandas\n",
    "\n",
    "# Packages defined in a file: environment.yml\n",
    "conda env update --file environment.yml --prune\n",
    "```\n",
    "\n",
    "#### *Deactivate*\n",
    "\n",
    "```bash\n",
    "deactivate\n",
    "```\n",
    "\n",
    "#### *Remove*\n",
    "```bash\n",
    "# (after having deactivated the environment)\n",
    "conda remove --name myenv --all\n",
    "```"
   ]
  },
  {
   "cell_type": "markdown",
   "metadata": {
    "slideshow": {
     "slide_type": "slide"
    }
   },
   "source": [
    "## Selecting Python interpreter in VSCode\n",
    "\n",
    "Press `F1` and type `Python select interpreter`:\n",
    "\n",
    "![select_python_interpreter](img/select_python_interpreter.png)\n",
    "\n",
    "Choose the `Entire workspace` option, and choose the environment created:\n",
    "\n",
    "![select_python_interpreter_venv](img/select_python_interpreter_venv.png)\n"
   ]
  },
  {
   "cell_type": "markdown",
   "metadata": {
    "slideshow": {
     "slide_type": "slide"
    }
   },
   "source": [
    "<h1 class=\"center_text\">Python projects basic scaffold</h1>"
   ]
  },
  {
   "cell_type": "markdown",
   "metadata": {
    "slideshow": {
     "slide_type": "slide"
    }
   },
   "source": [
    "(live demo)"
   ]
  },
  {
   "cell_type": "markdown",
   "metadata": {
    "slideshow": {
     "slide_type": "slide"
    }
   },
   "source": [
    "<h1 class=\"center_text\">Python modules</h1>"
   ]
  },
  {
   "cell_type": "markdown",
   "metadata": {
    "slideshow": {
     "slide_type": "slide"
    }
   },
   "source": [
    "## Wait... module or package?\n",
    "\n",
    "A module is *a file* containing Python definitions and statements. The file name is the module name with the suffix `.py` appended.\n",
    "\n",
    "A package is *a collection* of modules.\n",
    "\n",
    "Example:\n",
    "\n",
    "```\n",
    "foo . . . . . . . . . . . . . . . . main package\n",
    "    __init__.py\n",
    "    common. . . . . . . . . . . . . subpackage of foo\n",
    "        __init__.py\n",
    "        logger.py . . . . . . . . . module\n",
    "    calc. . . . . . . . . . . . . . subpackage of foo\n",
    "        __init__.py\n",
    "        time_series . . . . . . . . subpackage of calc\n",
    "            __init__.py\n",
    "            resampling.py . . . . . module\n",
    "            missing_values.py . . . module\n",
    "    scripts\n",
    "        __init__.py . . . . . . . . subpackage of foo\n",
    "        _parse_input_files.py . . . module\n",
    "```"
   ]
  },
  {
   "cell_type": "markdown",
   "metadata": {
    "slideshow": {
     "slide_type": "slide"
    }
   },
   "source": [
    "## Why modules and packages?\n",
    "\n",
    "Packages and modules are a way of structuring Python’s code into namespaces, avoiding naming conflicts.\n",
    "\n",
    "\n",
    "In the example below, modules `a.calc.time_series.resampling` and `b.resampling` are logically different:\n",
    "\n",
    "```\n",
    "a\n",
    "    __init__.py\n",
    "    calc\n",
    "        __init__.py\n",
    "        time_series\n",
    "            __init__.py\n",
    "            resampling.py\n",
    "\n",
    "\n",
    "b\n",
    "    __init__.py\n",
    "    resampling.py\n",
    "```"
   ]
  },
  {
   "cell_type": "markdown",
   "metadata": {
    "slideshow": {
     "slide_type": "slide"
    }
   },
   "source": [
    "## Importing package and modules\n",
    "\n",
    "The `__init__.py` files are required to make Python treat directories containing the file as packages.\n",
    "\n",
    "To import packages, supackages and modules we use the \"dotted notation\":\n",
    "\n",
    "```python\n",
    "import foo.common.logger\n",
    "\n",
    "from foo.common.looger import function_a, function_b, function_c, function_d\n",
    "\n",
    "# Never never never\n",
    "from asdfasdf import *\n",
    "```"
   ]
  },
  {
   "cell_type": "markdown",
   "metadata": {
    "slideshow": {
     "slide_type": "slide"
    }
   },
   "source": [
    "## Order when importing\n",
    "\n",
    "The rule is:\n",
    "\n",
    "* Import first what is in the standard library\n",
    "* Then import installed packages\n",
    "* Then modules in the project\n",
    "\n",
    "And also:\n",
    "\n",
    "* Use first the `import...` notation\n",
    "* Then the `from...import...`\n",
    "* Follow alphabetical order\n",
    "* Use empty lines between groups\n"
   ]
  },
  {
   "cell_type": "markdown",
   "metadata": {
    "slideshow": {
     "slide_type": "slide"
    }
   },
   "source": [
    "## Order when importing (example)\n",
    "\n",
    "```python\n",
    "import os\n",
    "import sys\n",
    "\n",
    "from datetime import datetime\n",
    "from random import randint\n",
    "\n",
    "import pandas as pd\n",
    "\n",
    "from numpy import ndarray\n",
    "\n",
    "from calc.financials.liabilities import calculate_liability_a, calculate_liability_b\n",
    "```"
   ]
  },
  {
   "cell_type": "markdown",
   "metadata": {
    "slideshow": {
     "slide_type": "slide"
    }
   },
   "source": [
    "## Execute\n",
    "\n",
    "```bash\n",
    "python -m foo.scripts._parse_input_files\n",
    "```"
   ]
  },
  {
   "cell_type": "markdown",
   "metadata": {
    "slideshow": {
     "slide_type": "slide"
    }
   },
   "source": [
    "## Debugging in VSCode (1/3)\n",
    "\n",
    "Go to:\n",
    "\n",
    "```\n",
    "Menu > Run > Add Configuration...\n",
    "```\n",
    "\n",
    "Then select `Python` option and then `Module` option:\n",
    "\n",
    "![debug_module](img/debug_module.png)\n",
    "\n",
    "Finally enter the name of the module to be debugged."
   ]
  },
  {
   "cell_type": "markdown",
   "metadata": {
    "slideshow": {
     "slide_type": "slide"
    }
   },
   "source": [
    "## Debugging in VSCode (2/3)\n",
    "\n",
    "The file `.vscode/launch.json` will be created.\n",
    "\n",
    "Define the module to be executed.\n",
    "\n",
    "```json\n",
    "{\n",
    "    // Use IntelliSense to learn about possible attributes.\n",
    "    // Hover to view descriptions of existing attributes.\n",
    "    // For more information, visit: https://go.microsoft.com/fwlink/?linkid=830387\n",
    "    \"version\": \"0.2.0\",\n",
    "    \"configurations\": [\n",
    "        {\n",
    "            \"name\": \"_parse_input_file\",\n",
    "            \"type\": \"python\",\n",
    "            \"request\": \"launch\",\n",
    "            \"module\": \"foo.scripts._parse_input_files\",\n",
    "            \"cwd\": \"${workspaceFolder}\",\n",
    "            \"console\": \"internalConsole\"\n",
    "        }\n",
    "    ]\n",
    "}\n",
    "\n",
    "```"
   ]
  },
  {
   "cell_type": "markdown",
   "metadata": {
    "slideshow": {
     "slide_type": "slide"
    }
   },
   "source": [
    "## Debugging in VSCode (3/3)\n",
    "\n",
    "Finally, start debugging:\n",
    "    \n",
    "![img](img/debug_with_configuration.png)"
   ]
  },
  {
   "cell_type": "markdown",
   "metadata": {
    "slideshow": {
     "slide_type": "slide"
    }
   },
   "source": [
    "## What is pytest?\n",
    "\n",
    "Python tests are executed with test-runners. The two most important runners are `unittest` and `pytest`\n",
    "\n",
    "We recommend `pytest` because it is lighter and faster.\n",
    "\n",
    "`pytest` requires:\n",
    "\n",
    "* The name of test files must begin with `test_`\n",
    "* The name of test functions must begin with `test_`"
   ]
  },
  {
   "cell_type": "markdown",
   "metadata": {
    "slideshow": {
     "slide_type": "slide"
    }
   },
   "source": [
    "## Running tests from the command line\n",
    "\n",
    "\n",
    "```bash\n",
    "# Single file\n",
    "python -m pytest tests/unit/test_file.py\n",
    "\n",
    "# Or\n",
    "pytest tests/unit/test_file.py\n",
    "\n",
    "# Folder\n",
    "python -m pytest tests/unit\n",
    "\n",
    "# Or\n",
    "pytest tests/unit\n",
    "```"
   ]
  },
  {
   "cell_type": "markdown",
   "metadata": {
    "slideshow": {
     "slide_type": "slide"
    }
   },
   "source": [
    "## Check tests coverage\n",
    "\n",
    "You can check how much code is covered with pytest. You need the `pytest-cov`.\n",
    "\n",
    "```bash\n",
    "pytest --cov=foo tests\n",
    "```\n",
    "\n",
    "Where `foo` is the name the main package.\n",
    "\n",
    "If you want results to be generated as an HTML report:\n",
    "\n",
    "```bash\n",
    "pytest --cov=foo --cov-report=html tests\n",
    "```"
   ]
  },
  {
   "cell_type": "markdown",
   "metadata": {
    "slideshow": {
     "slide_type": "slide"
    }
   },
   "source": [
    "## About .coveragerc file\n",
    "\n",
    "Some coverage rules can be defined in the .coveragerc file ([link](https://coverage.readthedocs.io/en/coverage-5.0/config.html)).\n",
    "\n",
    "This file is like:\n",
    "\n",
    "```\n",
    "[paths]\n",
    "source = foo\n",
    "\n",
    "[report]\n",
    "exclude_lines =\n",
    "    @timer()\n",
    "    @timer(logger)\n",
    "\n",
    "omit =\n",
    "    foo/common/logger.py\n",
    "    foo/__init__.py\n",
    "    foo/*/__init__.py\n",
    "    foo/scripts/*\n",
    "\n",
    "[html]\n",
    "    title = Coverage report\n",
    "```"
   ]
  },
  {
   "cell_type": "markdown",
   "metadata": {
    "slideshow": {
     "slide_type": "slide"
    }
   },
   "source": [
    "## Running tests from VSCode (1/2)\n",
    "\n",
    "Press `F1`, type `Python run test file` and select `pytest` and `tests` folder:\n",
    "\n",
    "![select_pytest](img/select_pytest.png)"
   ]
  },
  {
   "cell_type": "markdown",
   "metadata": {
    "slideshow": {
     "slide_type": "slide"
    }
   },
   "source": [
    "## Testing *-* VSCode (2/2)\n",
    "\n",
    "![debug_vscode](img/debug_vscode.png)"
   ]
  },
  {
   "cell_type": "markdown",
   "metadata": {
    "slideshow": {
     "slide_type": "slide"
    }
   },
   "source": [
    "<h1 class=\"center_text\">Apidoc with Sphinx</h1>"
   ]
  },
  {
   "cell_type": "markdown",
   "metadata": {
    "slideshow": {
     "slide_type": "slide"
    }
   },
   "source": [
    "## What is Sphinx?\n",
    "\n",
    "Sphinx is the official tool to generate Python projects documentation.\n",
    "\n",
    "The following packages are needed: `sphinx` and `sphinx-rtd-theme`."
   ]
  },
  {
   "cell_type": "markdown",
   "metadata": {
    "slideshow": {
     "slide_type": "slide"
    }
   },
   "source": [
    "## Create structure\n",
    "\n",
    "In the command line:\n",
    "\n",
    "```bash\n",
    "mkdir docs\n",
    "cd docs\n",
    "sphinx-quickstart\n",
    "```\n",
    "\n",
    "The application will ask you:\n",
    "\n",
    "`Separate source and build directories (y/n) [n]:`\n",
    "\n",
    "Choose `y`."
   ]
  },
  {
   "cell_type": "markdown",
   "metadata": {
    "slideshow": {
     "slide_type": "slide"
    }
   },
   "source": [
    "## Create RST files from Python modules (1/2)\n",
    "\n",
    "In the command line:\n",
    "    \n",
    "```bash\n",
    "# From project root folder\n",
    "sphinx-apidoc -P -f -o docs/source foo *scripts*\n",
    "````\n",
    "\n",
    "Where:\n",
    "\n",
    "* `foo` is the main package\n",
    "* `*scripts*` states that Python modules within `scripts` folder will be ignored"
   ]
  },
  {
   "cell_type": "markdown",
   "metadata": {
    "slideshow": {
     "slide_type": "slide"
    }
   },
   "source": [
    "## Create RST files from Python modules (2/2)\n",
    "\n",
    "You will see that some `.rst` files have been created within `docs/source`.\n",
    "\n",
    "Among those files there is one called `foo.rst` (assuming that the main package is called `foo`).\n",
    "\n",
    "Open `index.rst` and add a reference to `foo`:\n",
    "\n",
    "```rst\n",
    "Welcome to the documentation!\n",
    "=============================\n",
    "\n",
    ".. toctree::\n",
    "   :maxdepth: 2\n",
    "   :caption: Contents:\n",
    "\n",
    "   foo\n",
    "```"
   ]
  },
  {
   "cell_type": "markdown",
   "metadata": {
    "slideshow": {
     "slide_type": "slide"
    }
   },
   "source": [
    "## Modify conf.py (1/2)\n",
    "\n",
    "Open `docs/source/conf.py` and replace:\n",
    "\n",
    "```python\n",
    "# import os\n",
    "# import sys\n",
    "# sys.path.insert(0, os.path.abspath('.'))\n",
    "```\n",
    "\n",
    "with:\n",
    "\n",
    "```python\n",
    "import os\n",
    "import sys\n",
    "\n",
    "root_folder = os.path.abspath(os.path.join(\"..\", \"..\"))\n",
    "sys.path.insert(0, root_folder)\n",
    "```\n"
   ]
  },
  {
   "cell_type": "markdown",
   "metadata": {
    "slideshow": {
     "slide_type": "slide"
    }
   },
   "source": [
    "## Modify conf.py (2/2)\n",
    "\n",
    "Add the following extensions\n",
    "\n",
    "```python\n",
    "extensions = [\n",
    "    \"sphinx.ext.autodoc\",\n",
    "    \"sphinx.ext.autosummary\",\n",
    "    \"sphinx.ext.intersphinx\",\n",
    "    \"sphinx.ext.mathjax\",\n",
    "    \"sphinx.ext.napoleon\",\n",
    "]\n",
    "```"
   ]
  },
  {
   "cell_type": "markdown",
   "metadata": {
    "slideshow": {
     "slide_type": "slide"
    }
   },
   "source": [
    "## Generate HTML documentation\n",
    "\n",
    "From the command line:\n",
    "    \n",
    "```bash\n",
    "sphinx-build -b html docs/source/ docs/build/\n",
    "```\n",
    "\n",
    "This will read the RST files in `docs/source` and build HTML documentation in `docs/build`.\n",
    "\n",
    "To view the output, open `docs/build/index.html` in a browser."
   ]
  },
  {
   "cell_type": "markdown",
   "metadata": {
    "slideshow": {
     "slide_type": "slide"
    }
   },
   "source": [
    "<h1 class=\"center_text\">pylint and flake8</h1>"
   ]
  },
  {
   "cell_type": "markdown",
   "metadata": {
    "slideshow": {
     "slide_type": "slide"
    }
   },
   "source": [
    "## What are pylint and flake8?\n",
    "\n",
    "pylint is a source-code, bug and quality checker for Python.\n",
    "\n",
    "flake8 is a tool for style guide enforcement.\n",
    "\n",
    "The following packages are needed: `flake8` and `pylint`."
   ]
  },
  {
   "cell_type": "markdown",
   "metadata": {
    "slideshow": {
     "slide_type": "slide"
    }
   },
   "source": [
    "## Running pylint (1/2)\n",
    "\n",
    "Create an `rc` file:\n",
    "\n",
    "```bash\n",
    "python -m pylint --generate-rcfile > .pylintrc\n",
    "```\n",
    "\n",
    "Run:\n",
    "\n",
    "```bash\n",
    "# Single module\n",
    "python -m pylint foo.calc.financials.liabilities\n",
    "\n",
    "# Packages and subpackages\n",
    "python -m pylint foo\n",
    "python -m pylint foo.calc\n",
    "```"
   ]
  },
  {
   "cell_type": "markdown",
   "metadata": {
    "slideshow": {
     "slide_type": "slide"
    }
   },
   "source": [
    "## Running pylint (2/2)\n",
    "\n",
    "pylint can be directly called from command line too.\n",
    "\n",
    "In this case, it not necessary to use the dotted path notation.\n",
    "\n",
    "```bash\n",
    "# Single module\n",
    "pylint foo/calc/financials/liabilities.py\n",
    "\n",
    "# Packages and subpackages\n",
    "pylint foo\n",
    "pylint foo.calc\n",
    "```"
   ]
  },
  {
   "cell_type": "markdown",
   "metadata": {
    "slideshow": {
     "slide_type": "slide"
    }
   },
   "source": [
    "## Running flake8 (1/2)\n",
    "\n",
    "Run:\n",
    "\n",
    "```bash\n",
    "# Single module\n",
    "python -m flake8 foo/calc/financials/liabilities.py\n",
    "\n",
    "# Packages and subpackages\n",
    "python -m flake8 foo\n",
    "python -m flake8 foo/calc\n",
    "```"
   ]
  },
  {
   "cell_type": "markdown",
   "metadata": {
    "slideshow": {
     "slide_type": "slide"
    }
   },
   "source": [
    "## Running flake8 (2/2)\n",
    "\n",
    "pylint can be directly called from command line too.\n",
    "\n",
    "In this case, it not necessary to use the dotted path notation.\n",
    "\n",
    "```bash\n",
    "# Single module\n",
    "flake8 foo/calc/financials/liabilities.py\n",
    "\n",
    "# Packages and subpackages\n",
    "flake8 foo\n",
    "flake8 foo.calc\n",
    "```"
   ]
  },
  {
   "cell_type": "markdown",
   "metadata": {
    "slideshow": {
     "slide_type": "slide"
    }
   },
   "source": [
    "<h1 class=\"center_text\">Questions?</h1>"
   ]
  },
  {
   "cell_type": "markdown",
   "metadata": {
    "slideshow": {
     "slide_type": "slide"
    }
   },
   "source": [
    "<h1 class=\"center_text\">Thank you!</h1>"
   ]
  }
 ],
 "metadata": {
  "celltoolbar": "Slideshow",
  "kernelspec": {
   "display_name": "Python 3",
   "language": "python",
   "name": "python3"
  },
  "language_info": {
   "codemirror_mode": {
    "name": "ipython",
    "version": 3
   },
   "file_extension": ".py",
   "mimetype": "text/x-python",
   "name": "python",
   "nbconvert_exporter": "python",
   "pygments_lexer": "ipython3",
   "version": "3.8.5"
  }
 },
 "nbformat": 4,
 "nbformat_minor": 4
}
